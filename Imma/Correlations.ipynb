{
 "cells": [
  {
   "cell_type": "code",
   "execution_count": 1,
   "id": "142bc0ab",
   "metadata": {},
   "outputs": [],
   "source": [
    "import numpy as np\n",
    "import pandas as pd"
   ]
  },
  {
   "cell_type": "code",
   "execution_count": 2,
   "id": "473a1fdd",
   "metadata": {},
   "outputs": [],
   "source": [
    "direc = '../dades/'"
   ]
  },
  {
   "cell_type": "code",
   "execution_count": 6,
   "id": "1f7bf82a",
   "metadata": {},
   "outputs": [
    {
     "data": {
      "text/plain": [
       "array(['Salvament i/o rescat de muntanya',\n",
       "       'Salvament i/o recerca i/o rescat en medi fluvial (rius,barrancs, llacs)',\n",
       "       'Recerca persones perdudes o desaparegudes',\n",
       "       'Salvament i/o recerca i/o rescat en medi marítim',\n",
       "       'Salvament i/o rescat en coves i pous', 'Rescat de muntanya',\n",
       "       'Recerca persones perdudes', 'Recerca i/o rescat en medi marítim',\n",
       "       'Recerca i/o rescat en medi fluvial (rius, barrancs, llacs)',\n",
       "       'Rescat en coves i pous'], dtype=object)"
      ]
     },
     "execution_count": 6,
     "metadata": {},
     "output_type": "execute_result"
    }
   ],
   "source": [
    "accions_salvament = pd.read_csv(direc+'Actuacions_en_salvaments_al_medi_natural_dels_Bombers_de_la_Generalitat_20231109.csv')\n",
    "accions_filtrades= accions_salvament[(accions_salvament[\"ANY\"]<2023) & (accions_salvament[\"ANY\"]>2017)]   #AND & OR |\n",
    "\n",
    "# show loaded table:\n",
    "accions_filtrades['TAL_NOM_ALARMA'].unique()\n",
    "\n"
   ]
  },
  {
   "cell_type": "code",
   "execution_count": null,
   "id": "b877e32b",
   "metadata": {},
   "outputs": [],
   "source": [
    "#Treurem tot "
   ]
  },
  {
   "cell_type": "code",
   "execution_count": null,
   "id": "8526a0a6",
   "metadata": {},
   "outputs": [],
   "source": [
    "#Agrupar categories: \n",
    "#Salvament i/o rescat de muntanya - Rescat de muntanya"
   ]
  },
  {
   "cell_type": "code",
   "execution_count": 7,
   "id": "fa6b883e",
   "metadata": {},
   "outputs": [
    {
     "data": {
      "text/plain": [
       "array(['Incendi', 'Altres incidències', 'Assistència sanitària',\n",
       "       'Medi ambient', 'Accident', 'Trànsit', 'Civisme', 'Seguretat',\n",
       "       'Fuita (aigua, gas, altres)', 'Meteorologia'], dtype=object)"
      ]
     },
     "execution_count": 7,
     "metadata": {},
     "output_type": "execute_result"
    }
   ],
   "source": [
    "trucades_salvament= pd.read_csv(direc + 'Dades_d_incidents_operatius_gestionats_pel_CAT112_20231110.csv' )\n",
    "trucades_filtrades= trucades_salvament[(trucades_salvament[\"ANY\"]<2023) & (trucades_salvament[\"ANY\"]>2017)]\n",
    "\n",
    "trucades_filtrades['TIPUS'].unique()"
   ]
  },
  {
   "cell_type": "code",
   "execution_count": 12,
   "id": "f66e68a6",
   "metadata": {},
   "outputs": [
    {
     "data": {
      "text/html": [
       "<div>\n",
       "<style scoped>\n",
       "    .dataframe tbody tr th:only-of-type {\n",
       "        vertical-align: middle;\n",
       "    }\n",
       "\n",
       "    .dataframe tbody tr th {\n",
       "        vertical-align: top;\n",
       "    }\n",
       "\n",
       "    .dataframe thead th {\n",
       "        text-align: right;\n",
       "    }\n",
       "</style>\n",
       "<table border=\"1\" class=\"dataframe\">\n",
       "  <thead>\n",
       "    <tr style=\"text-align: right;\">\n",
       "      <th></th>\n",
       "      <th>ANY</th>\n",
       "      <th>MES</th>\n",
       "      <th>PROVINCIA</th>\n",
       "      <th>COMARCA</th>\n",
       "      <th>MUNICIPI</th>\n",
       "      <th>TIPUS</th>\n",
       "      <th>INCIDENTS</th>\n",
       "    </tr>\n",
       "  </thead>\n",
       "  <tbody>\n",
       "    <tr>\n",
       "      <th>0</th>\n",
       "      <td>2022</td>\n",
       "      <td>12</td>\n",
       "      <td>TARRAGONA</td>\n",
       "      <td>CONCA DE BARBERA</td>\n",
       "      <td>SANTA COLOMA DE QUERALT</td>\n",
       "      <td>Incendi</td>\n",
       "      <td>1</td>\n",
       "    </tr>\n",
       "    <tr>\n",
       "      <th>1</th>\n",
       "      <td>2022</td>\n",
       "      <td>12</td>\n",
       "      <td>LLEIDA</td>\n",
       "      <td>PLA D'URGELL</td>\n",
       "      <td>BELL-LLOC D'URGELL</td>\n",
       "      <td>Incendi</td>\n",
       "      <td>1</td>\n",
       "    </tr>\n",
       "    <tr>\n",
       "      <th>2</th>\n",
       "      <td>2022</td>\n",
       "      <td>12</td>\n",
       "      <td>GIRONA</td>\n",
       "      <td>SELVA</td>\n",
       "      <td>OSOR</td>\n",
       "      <td>Altres incidències</td>\n",
       "      <td>1</td>\n",
       "    </tr>\n",
       "    <tr>\n",
       "      <th>3</th>\n",
       "      <td>2022</td>\n",
       "      <td>12</td>\n",
       "      <td>BARCELONA</td>\n",
       "      <td>VALLES ORIENTAL</td>\n",
       "      <td>SANT FELIU DE CODINES</td>\n",
       "      <td>Incendi</td>\n",
       "      <td>1</td>\n",
       "    </tr>\n",
       "    <tr>\n",
       "      <th>4</th>\n",
       "      <td>2022</td>\n",
       "      <td>12</td>\n",
       "      <td>GIRONA</td>\n",
       "      <td>CERDANYA</td>\n",
       "      <td>GUILS DE CERDANYA</td>\n",
       "      <td>Assistència sanitària</td>\n",
       "      <td>2</td>\n",
       "    </tr>\n",
       "    <tr>\n",
       "      <th>...</th>\n",
       "      <td>...</td>\n",
       "      <td>...</td>\n",
       "      <td>...</td>\n",
       "      <td>...</td>\n",
       "      <td>...</td>\n",
       "      <td>...</td>\n",
       "      <td>...</td>\n",
       "    </tr>\n",
       "    <tr>\n",
       "      <th>150382</th>\n",
       "      <td>2018</td>\n",
       "      <td>1</td>\n",
       "      <td>GIRONA</td>\n",
       "      <td>ALT EMPORDA</td>\n",
       "      <td>CISTELLA</td>\n",
       "      <td>Altres incidències</td>\n",
       "      <td>1</td>\n",
       "    </tr>\n",
       "    <tr>\n",
       "      <th>150383</th>\n",
       "      <td>2018</td>\n",
       "      <td>1</td>\n",
       "      <td>BARCELONA</td>\n",
       "      <td>BAGES</td>\n",
       "      <td>SANT MATEU DE BAGES</td>\n",
       "      <td>Incendi</td>\n",
       "      <td>1</td>\n",
       "    </tr>\n",
       "    <tr>\n",
       "      <th>150384</th>\n",
       "      <td>2018</td>\n",
       "      <td>1</td>\n",
       "      <td>BARCELONA</td>\n",
       "      <td>VALLES ORIENTAL</td>\n",
       "      <td>MOLLET DEL VALLES</td>\n",
       "      <td>Altres incidències</td>\n",
       "      <td>35</td>\n",
       "    </tr>\n",
       "    <tr>\n",
       "      <th>150385</th>\n",
       "      <td>2018</td>\n",
       "      <td>1</td>\n",
       "      <td>TARRAGONA</td>\n",
       "      <td>ALT CAMP</td>\n",
       "      <td>VALLS</td>\n",
       "      <td>Medi ambient</td>\n",
       "      <td>2</td>\n",
       "    </tr>\n",
       "    <tr>\n",
       "      <th>150386</th>\n",
       "      <td>2018</td>\n",
       "      <td>1</td>\n",
       "      <td>GIRONA</td>\n",
       "      <td>GIRONES</td>\n",
       "      <td>SANT MARTI VELL</td>\n",
       "      <td>Assistència sanitària</td>\n",
       "      <td>1</td>\n",
       "    </tr>\n",
       "  </tbody>\n",
       "</table>\n",
       "<p>150387 rows × 7 columns</p>\n",
       "</div>"
      ],
      "text/plain": [
       "         ANY  MES  PROVINCIA           COMARCA                 MUNICIPI  \\\n",
       "0       2022   12  TARRAGONA  CONCA DE BARBERA  SANTA COLOMA DE QUERALT   \n",
       "1       2022   12     LLEIDA      PLA D'URGELL       BELL-LLOC D'URGELL   \n",
       "2       2022   12     GIRONA             SELVA                     OSOR   \n",
       "3       2022   12  BARCELONA   VALLES ORIENTAL    SANT FELIU DE CODINES   \n",
       "4       2022   12     GIRONA          CERDANYA        GUILS DE CERDANYA   \n",
       "...      ...  ...        ...               ...                      ...   \n",
       "150382  2018    1     GIRONA       ALT EMPORDA                 CISTELLA   \n",
       "150383  2018    1  BARCELONA             BAGES      SANT MATEU DE BAGES   \n",
       "150384  2018    1  BARCELONA   VALLES ORIENTAL        MOLLET DEL VALLES   \n",
       "150385  2018    1  TARRAGONA          ALT CAMP                    VALLS   \n",
       "150386  2018    1     GIRONA           GIRONES          SANT MARTI VELL   \n",
       "\n",
       "                        TIPUS  INCIDENTS  \n",
       "0                     Incendi          1  \n",
       "1                     Incendi          1  \n",
       "2          Altres incidències          1  \n",
       "3                     Incendi          1  \n",
       "4       Assistència sanitària          2  \n",
       "...                       ...        ...  \n",
       "150382     Altres incidències          1  \n",
       "150383                Incendi          1  \n",
       "150384     Altres incidències         35  \n",
       "150385           Medi ambient          2  \n",
       "150386  Assistència sanitària          1  \n",
       "\n",
       "[150387 rows x 7 columns]"
      ]
     },
     "execution_count": 12,
     "metadata": {},
     "output_type": "execute_result"
    }
   ],
   "source": [
    "#Incidents utils comparables\n",
    "incidents_descartats=['Seguretat','Trànsit','Civisme']\n",
    "\n",
    "incidents = trucades_filtrades[~trucades_filtrades['TIPUS'].isin(incidents_descartats)]\n",
    "incidents = incidents.reset_index(drop=True)\n",
    "incidents"
   ]
  }
 ],
 "metadata": {
  "kernelspec": {
   "display_name": "AVDM_kernel",
   "language": "python",
   "name": "avdm_kernel"
  },
  "language_info": {
   "codemirror_mode": {
    "name": "ipython",
    "version": 3
   },
   "file_extension": ".py",
   "mimetype": "text/x-python",
   "name": "python",
   "nbconvert_exporter": "python",
   "pygments_lexer": "ipython3",
   "version": "3.9.18"
  }
 },
 "nbformat": 4,
 "nbformat_minor": 5
}
