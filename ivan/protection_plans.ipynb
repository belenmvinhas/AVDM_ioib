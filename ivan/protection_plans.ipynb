{
 "cells": [
  {
   "cell_type": "markdown",
   "id": "4944d516",
   "metadata": {},
   "source": [
    "# Overview\n",
    "\n",
    "1. [__Importing data__](#1)\n",
    "    1. [Loading csv files](#1.1)\n",
    "\n",
    "\n",
    "2. [__Preprocessing data__](#2)\n",
    "    1. [Droping NaNs](#2.1)\n",
    "    2. [Cleaning dataset](#2.2)\n",
    "    3. [Datetime](#2.3)\n",
    "    4. [Selecting data from 2018 to 2022)](#2.4)\n",
    "    5. [Selecting plans related to 112 incidents & rescue actions](#2.5)\n",
    "\n",
    "3. [__Trial plots__](#3)\n",
    "    1. [Number of protection plans activated per Catalonia regions](#3.1)\n",
    "        1. [Províncies](#3.1.1)\n",
    "        2. [Comarques](#3.1.2)\n",
    "        3. [Municipis](#3.1.3)\n",
    "        \n",
    "    2. [Time evolution of protection plans](#3.2)\n",
    "        1. [Grouped by províncies](#3.2.1)\n",
    "        2. [Grouped by typology](#3.2.2)\n",
    "       \n",
    "    3. [Protection plans divided](#3.3)\n",
    "        1. [Grouped by typology](#3.3.1)\n",
    "        3. [Grouped by typology and província](#3.3.2)"
   ]
  },
  {
   "cell_type": "code",
   "execution_count": 1,
   "id": "9a5b6aba",
   "metadata": {},
   "outputs": [],
   "source": [
    "import pandas as pd\n",
    "import geopandas as gpd\n",
    "import numpy as np\n",
    "import matplotlib.pyplot as plt\n",
    "from matplotlib.colors import LogNorm\n",
    "import seaborn as sns\n"
   ]
  },
  {
   "cell_type": "markdown",
   "id": "234b2fe1",
   "metadata": {},
   "source": [
    "# 1. Importing data <a class=\"anchor\" id=\"1\"></a>"
   ]
  },
  {
   "cell_type": "code",
   "execution_count": 2,
   "id": "0831c59d",
   "metadata": {},
   "outputs": [],
   "source": [
    "data_dir = \"../dades/\"\n",
    "fig_dir = \"figures/\""
   ]
  },
  {
   "cell_type": "markdown",
   "id": "4b15e069",
   "metadata": {},
   "source": [
    "## 1.1. Loading csv files <a class=\"anchor\" id=\"1.1\"></a>"
   ]
  },
  {
   "cell_type": "code",
   "execution_count": 3,
   "id": "6c29616d",
   "metadata": {},
   "outputs": [],
   "source": [
    "rescue_actions = pd.read_csv(data_dir+\"Actuacions_en_salvaments_al_medi_natural_dels_Bombers_de_la_Generalitat_20231109.csv\")\n",
    "protection_plans = pd.read_csv(data_dir+\"Registre_general_de_plans_de_protecci__civil_de_Catalunya_20231109.csv\")\n",
    "inc_112 = pd.read_csv(data_dir+\"Dades_d_incidents_operatius_gestionats_pel_CAT112_20231110.csv\")\n"
   ]
  },
  {
   "cell_type": "markdown",
   "id": "8791dd72",
   "metadata": {},
   "source": [
    "https://analisi.transparenciacatalunya.cat/Seguretat/Actuacions-en-salvaments-al-medi-natural-dels-Bomb/fsum-2k6e\n",
    "https://analisi.transparenciacatalunya.cat/Seguretat/Registre-general-de-plans-de-protecci-civil-de-Cat/xqqe-tgav\n",
    "https://analisi.transparenciacatalunya.cat/Seguretat/Dades-d-incidents-operatius-gestionats-pel-CAT112/jq8m-d7cw\n",
    "https://analisi.transparenciacatalunya.cat/Seguretat/Dades-de-trucades-operatives-gestionades-pel-CAT11/mfqb-sbx4"
   ]
  },
  {
   "cell_type": "code",
   "execution_count": 4,
   "id": "9f5820be",
   "metadata": {},
   "outputs": [],
   "source": [
    "comarques = [\"Alt Camp\",\"Alt Empordà\",\"Alt Penedès\",\"Alt Urgell\",\"Alta Ribagorça\",\"Anoia\",\"Aran\",\"Bages\",\"Baix Camp\",\n",
    "             \"Baix Ebre\",\"Baix Empordà\",\"Baix Llobregat\",\"Baix Penedès\",\"Barcelonès\",\"Berguedà\",\"Cerdanya\",\n",
    "             \"Conca de Barberà\",\"Garraf\",\"Garrigues\",\"Garrotxa\",\"Gironès\",\"Maresme\",\"Moianès\",\"Montsià\",\n",
    "             \"Noguera\",\"Osona\",\"Pallars Jussà\",\"Pallars Sobirà\",\"Pla d'Urgell\",\"Pla de l'Estany\",\"Priorat\",\n",
    "             \"Ribera d'Ebre\",\"Ripollès\",\"Segarra\",\"Segrià\",\"Selva\",\"Solsonès\",\"Tarragonès\",\"Terra Alta\",\n",
    "             \"Urgell\",\"Vallès Occidental\",\"Vallès Oriental\"]"
   ]
  },
  {
   "cell_type": "markdown",
   "id": "65e0f36e",
   "metadata": {},
   "source": [
    "# 2. Preprocessing data <a class=\"anchor\" id=\"2\"></a>"
   ]
  },
  {
   "cell_type": "markdown",
   "id": "4d0de1c1",
   "metadata": {},
   "source": [
    "## 2.1. Dropping NaNs <a class=\"anchor\" id=\"2.1\"></a>"
   ]
  },
  {
   "cell_type": "markdown",
   "id": "43653720",
   "metadata": {},
   "source": [
    "We only conserve data from Municipal Plans to study them geographically"
   ]
  },
  {
   "cell_type": "code",
   "execution_count": 5,
   "id": "12521417",
   "metadata": {},
   "outputs": [],
   "source": [
    "rescue_actions.dropna(axis=0, inplace=True)\n",
    "protection_plans.dropna(axis=0, inplace=True)\n",
    "inc_112.dropna(axis=0, inplace=True)"
   ]
  },
  {
   "cell_type": "code",
   "execution_count": 6,
   "id": "ce09b5ed",
   "metadata": {},
   "outputs": [],
   "source": [
    "rescue_actions = rescue_actions.reset_index().drop(\"index\",axis=1)\n",
    "protection_plans = protection_plans.reset_index().drop(\"index\",axis=1)\n",
    "inc_112 = inc_112.reset_index().drop(\"index\",axis=1)"
   ]
  },
  {
   "cell_type": "markdown",
   "id": "56cf53f8",
   "metadata": {},
   "source": [
    "# 2.2. Cleaning dataset <a class=\"anchor\" id=\"2.2\"></a>"
   ]
  },
  {
   "cell_type": "code",
   "execution_count": 7,
   "id": "4f4f039c",
   "metadata": {},
   "outputs": [
    {
     "data": {
      "text/plain": [
       "Index(['Tipus pla', 'Número d'inscripció', 'Nom del pla', 'Estat',\n",
       "       'Data d'homologació', 'Últim esdeveniment',\n",
       "       'Data de l'últim esdeveniment', 'Ine5', 'Municipi', 'Comarca',\n",
       "       'Servei territorial', 'Vegueria', 'Província'],\n",
       "      dtype='object')"
      ]
     },
     "execution_count": 7,
     "metadata": {},
     "output_type": "execute_result"
    }
   ],
   "source": [
    "protection_plans.columns"
   ]
  },
  {
   "cell_type": "code",
   "execution_count": 8,
   "id": "26d0c433",
   "metadata": {},
   "outputs": [],
   "source": [
    "dropped_cols = [\"Número d'inscripció\",\"Data d'homologació\",\"Estat\",\"Ine5\",\"Vegueria\",\"Servei territorial\"]\n",
    "\n",
    "protection_plans = protection_plans.drop(dropped_cols,axis=1)"
   ]
  },
  {
   "cell_type": "code",
   "execution_count": 9,
   "id": "88354bee",
   "metadata": {},
   "outputs": [],
   "source": [
    "for i in range(0,protection_plans.shape[0]):\n",
    "    protection_plans[\"Nom del pla\"][i] = protection_plans[\"Nom del pla\"][i].split(\" \")\n",
    "\n",
    "    if protection_plans[\"Nom del pla\"][i][0] == \"PAM\" and protection_plans[\"Nom del pla\"][i][1] == \"Pla\":\n",
    "        protection_plans[\"Nom del pla\"][i] = \"PAM PEEM\"\n",
    "        \n",
    "    if protection_plans[\"Nom del pla\"][i][0] == \"PAM\" or protection_plans[\"Nom del pla\"][i][0] == \"Pam\" and protection_plans[\"Nom del pla\"][i][1] != \"Pla\":\n",
    "        protection_plans[\"Nom del pla\"][i] =  f\"PAM {protection_plans['Nom del pla'][i][1]}\"\n",
    "        \n",
    "    if protection_plans[\"Nom del pla\"][i][0] == \"PBEM\":\n",
    "        protection_plans[\"Nom del pla\"][i] = \"PBEM\"\n",
    "        \n",
    "    if protection_plans[\"Nom del pla\"][i][0] == \"PA\":\n",
    "        protection_plans[\"Nom del pla\"][i] = \"PA PROCICAT\"\n",
    "        \n",
    "    if protection_plans[\"Nom del pla\"][i][0] == \"PEM\":\n",
    "        protection_plans[\"Nom del pla\"][i] = \"PEM\"\n",
    "        \n",
    "    if protection_plans[\"Nom del pla\"][i][0] == \"Específic\":\n",
    "        protection_plans[\"Nom del pla\"][i] = \"Específic\""
   ]
  },
  {
   "cell_type": "code",
   "execution_count": 10,
   "id": "d5ede611",
   "metadata": {},
   "outputs": [],
   "source": [
    "tipus_pla = protection_plans[\"Tipus pla\"].unique()\n",
    "nom_pla = protection_plans[\"Nom del pla\"].unique()\n",
    "esdeveniment = protection_plans[\"Últim esdeveniment\"].unique()"
   ]
  },
  {
   "cell_type": "markdown",
   "id": "997d2fa7",
   "metadata": {},
   "source": [
    "### Columns\n",
    "\n",
    "1. __Tipus pla__: T: per als plans territorials. E: per als plans especials. F: per als plans específics. C: per als plans d’actuació. Codi del municipi\n",
    "\n",
    "2. __Nom pla__: Plans d'Activació Municipal (INFOCAT, SISMICAT, VENTCAT, NEUCAT, INUNCAT, TRANSCAT', PLASEQCAT, CAMCAT, RADCAT, AEROCAT, ALLAUCAT, PEEM (Pla d'emergències epidèmiques per pandèmia) ), Específic, Pla Bàsic d'Emergència Municipal (PBEM), Pla d'Emergència Municipal (PEM), PA PROCICAT, PENTA"
   ]
  },
  {
   "cell_type": "markdown",
   "id": "d46d62b5",
   "metadata": {},
   "source": [
    "## 2.3. Datetime <a class=\"anchor\" id=\"2.3\"></a>"
   ]
  },
  {
   "cell_type": "code",
   "execution_count": 11,
   "id": "ea140489",
   "metadata": {},
   "outputs": [],
   "source": [
    "protection_plans[\"Data de l'últim esdeveniment\"] = pd.to_datetime(protection_plans[\"Data de l'últim esdeveniment\"], format='%d/%m/%Y')\n"
   ]
  },
  {
   "cell_type": "markdown",
   "id": "2073b87f",
   "metadata": {},
   "source": [
    "## 2.4. Selecting data from 2018 to 2022 <a class=\"anchor\" id=\"2.4\"></a>"
   ]
  },
  {
   "cell_type": "code",
   "execution_count": 12,
   "id": "2deb4387",
   "metadata": {},
   "outputs": [],
   "source": [
    "protection_plans = protection_plans[(protection_plans[\"Data de l'últim esdeveniment\"].dt.year >= 2018) & (protection_plans[\"Data de l'últim esdeveniment\"].dt.year <= 2022)]\n",
    "protection_plans = protection_plans.reset_index().drop(\"index\",axis=1)\n"
   ]
  },
  {
   "cell_type": "markdown",
   "id": "98fa6491",
   "metadata": {},
   "source": [
    " ## 2.5. Selecting plans related to 112 incidents & rescue actions <a class=\"anchor\" id=\"2.5\"></a>"
   ]
  },
  {
   "cell_type": "code",
   "execution_count": 13,
   "id": "9803d7f3",
   "metadata": {},
   "outputs": [
    {
     "data": {
      "text/plain": [
       "array(['PAM VENTCAT', 'PAM INFOCAT', 'PAM NEUCAT', 'PAM INUNCAT',\n",
       "       'PAM SISMICAT', 'PBEM', 'PAM TRANSCAT', 'PAM PLASEQCAT',\n",
       "       'PA PROCICAT', 'PAM RADCAT', 'PAM AEROCAT', 'PEM', 'PAM ALLAUCAT',\n",
       "       'PAM CAMCAT', 'PAM PEEM', 'Específic'], dtype=object)"
      ]
     },
     "execution_count": 13,
     "metadata": {},
     "output_type": "execute_result"
    }
   ],
   "source": [
    "protection_plans[\"Nom del pla\"].unique()"
   ]
  },
  {
   "cell_type": "code",
   "execution_count": 14,
   "id": "5725c6cd",
   "metadata": {},
   "outputs": [],
   "source": [
    "plans_selected = [\"PAM INFOCAT\",\"PAM NEUCAT\",\"PAM VENTCAT\",\"PAM SISMICAT\",\"PAM INUNCAT\", \"PAM ALLAUCAT\",\n",
    "                  \"PA PROCICAT\",\"PEM\",\"PAM PEEM\",\"Específic\"]\n",
    "protection_plans = protection_plans[protection_plans[\"Nom del pla\"].isin(plans_selected)]"
   ]
  },
  {
   "cell_type": "code",
   "execution_count": 15,
   "id": "0a03755c",
   "metadata": {},
   "outputs": [
    {
     "data": {
      "text/html": [
       "<div>\n",
       "<style scoped>\n",
       "    .dataframe tbody tr th:only-of-type {\n",
       "        vertical-align: middle;\n",
       "    }\n",
       "\n",
       "    .dataframe tbody tr th {\n",
       "        vertical-align: top;\n",
       "    }\n",
       "\n",
       "    .dataframe thead th {\n",
       "        text-align: right;\n",
       "    }\n",
       "</style>\n",
       "<table border=\"1\" class=\"dataframe\">\n",
       "  <thead>\n",
       "    <tr style=\"text-align: right;\">\n",
       "      <th></th>\n",
       "      <th>Tipus pla</th>\n",
       "      <th>Nom del pla</th>\n",
       "      <th>Últim esdeveniment</th>\n",
       "      <th>Data de l'últim esdeveniment</th>\n",
       "      <th>Municipi</th>\n",
       "      <th>Comarca</th>\n",
       "      <th>Província</th>\n",
       "    </tr>\n",
       "  </thead>\n",
       "  <tbody>\n",
       "    <tr>\n",
       "      <th>0</th>\n",
       "      <td>E</td>\n",
       "      <td>PAM VENTCAT</td>\n",
       "      <td>Homologació</td>\n",
       "      <td>2022-03-10</td>\n",
       "      <td>Tàrrega</td>\n",
       "      <td>Urgell</td>\n",
       "      <td>Lleida</td>\n",
       "    </tr>\n",
       "    <tr>\n",
       "      <th>1</th>\n",
       "      <td>E</td>\n",
       "      <td>PAM INFOCAT</td>\n",
       "      <td>Homologació</td>\n",
       "      <td>2021-12-10</td>\n",
       "      <td>Colera</td>\n",
       "      <td>Alt Empordà</td>\n",
       "      <td>Girona</td>\n",
       "    </tr>\n",
       "    <tr>\n",
       "      <th>2</th>\n",
       "      <td>E</td>\n",
       "      <td>PAM NEUCAT</td>\n",
       "      <td>Homologació</td>\n",
       "      <td>2022-10-06</td>\n",
       "      <td>Avià</td>\n",
       "      <td>Berguedà</td>\n",
       "      <td>Barcelona</td>\n",
       "    </tr>\n",
       "    <tr>\n",
       "      <th>3</th>\n",
       "      <td>E</td>\n",
       "      <td>PAM NEUCAT</td>\n",
       "      <td>Homologació</td>\n",
       "      <td>2019-03-21</td>\n",
       "      <td>Sant Quirze del Vallès</td>\n",
       "      <td>Vallès Occidental</td>\n",
       "      <td>Barcelona</td>\n",
       "    </tr>\n",
       "    <tr>\n",
       "      <th>4</th>\n",
       "      <td>E</td>\n",
       "      <td>PAM VENTCAT</td>\n",
       "      <td>Homologació</td>\n",
       "      <td>2019-03-21</td>\n",
       "      <td>Sant Quirze del Vallès</td>\n",
       "      <td>Vallès Occidental</td>\n",
       "      <td>Barcelona</td>\n",
       "    </tr>\n",
       "    <tr>\n",
       "      <th>...</th>\n",
       "      <td>...</td>\n",
       "      <td>...</td>\n",
       "      <td>...</td>\n",
       "      <td>...</td>\n",
       "      <td>...</td>\n",
       "      <td>...</td>\n",
       "      <td>...</td>\n",
       "    </tr>\n",
       "    <tr>\n",
       "      <th>2761</th>\n",
       "      <td>E</td>\n",
       "      <td>PAM INFOCAT</td>\n",
       "      <td>Homologació</td>\n",
       "      <td>2019-03-21</td>\n",
       "      <td>Espinelves</td>\n",
       "      <td>Osona</td>\n",
       "      <td>Girona</td>\n",
       "    </tr>\n",
       "    <tr>\n",
       "      <th>2763</th>\n",
       "      <td>E</td>\n",
       "      <td>PAM NEUCAT</td>\n",
       "      <td>Homologació</td>\n",
       "      <td>2019-03-21</td>\n",
       "      <td>Espinelves</td>\n",
       "      <td>Osona</td>\n",
       "      <td>Girona</td>\n",
       "    </tr>\n",
       "    <tr>\n",
       "      <th>2764</th>\n",
       "      <td>E</td>\n",
       "      <td>PAM SISMICAT</td>\n",
       "      <td>Homologació</td>\n",
       "      <td>2019-03-21</td>\n",
       "      <td>Espinelves</td>\n",
       "      <td>Osona</td>\n",
       "      <td>Girona</td>\n",
       "    </tr>\n",
       "    <tr>\n",
       "      <th>2765</th>\n",
       "      <td>E</td>\n",
       "      <td>PAM NEUCAT</td>\n",
       "      <td>Actualització</td>\n",
       "      <td>2019-09-19</td>\n",
       "      <td>Viladrau</td>\n",
       "      <td>Osona</td>\n",
       "      <td>Girona</td>\n",
       "    </tr>\n",
       "    <tr>\n",
       "      <th>2766</th>\n",
       "      <td>E</td>\n",
       "      <td>PAM NEUCAT</td>\n",
       "      <td>Homologació</td>\n",
       "      <td>2018-12-05</td>\n",
       "      <td>Vidrà</td>\n",
       "      <td>Osona</td>\n",
       "      <td>Girona</td>\n",
       "    </tr>\n",
       "  </tbody>\n",
       "</table>\n",
       "<p>2022 rows × 7 columns</p>\n",
       "</div>"
      ],
      "text/plain": [
       "     Tipus pla   Nom del pla Últim esdeveniment Data de l'últim esdeveniment  \\\n",
       "0            E   PAM VENTCAT        Homologació                   2022-03-10   \n",
       "1            E   PAM INFOCAT        Homologació                   2021-12-10   \n",
       "2            E    PAM NEUCAT        Homologació                   2022-10-06   \n",
       "3            E    PAM NEUCAT        Homologació                   2019-03-21   \n",
       "4            E   PAM VENTCAT        Homologació                   2019-03-21   \n",
       "...        ...           ...                ...                          ...   \n",
       "2761         E   PAM INFOCAT        Homologació                   2019-03-21   \n",
       "2763         E    PAM NEUCAT        Homologació                   2019-03-21   \n",
       "2764         E  PAM SISMICAT        Homologació                   2019-03-21   \n",
       "2765         E    PAM NEUCAT      Actualització                   2019-09-19   \n",
       "2766         E    PAM NEUCAT        Homologació                   2018-12-05   \n",
       "\n",
       "                    Municipi            Comarca  Província  \n",
       "0                    Tàrrega             Urgell     Lleida  \n",
       "1                     Colera        Alt Empordà     Girona  \n",
       "2                       Avià           Berguedà  Barcelona  \n",
       "3     Sant Quirze del Vallès  Vallès Occidental  Barcelona  \n",
       "4     Sant Quirze del Vallès  Vallès Occidental  Barcelona  \n",
       "...                      ...                ...        ...  \n",
       "2761              Espinelves              Osona     Girona  \n",
       "2763              Espinelves              Osona     Girona  \n",
       "2764              Espinelves              Osona     Girona  \n",
       "2765                Viladrau              Osona     Girona  \n",
       "2766                   Vidrà              Osona     Girona  \n",
       "\n",
       "[2022 rows x 7 columns]"
      ]
     },
     "execution_count": 15,
     "metadata": {},
     "output_type": "execute_result"
    }
   ],
   "source": [
    "protection_plans"
   ]
  },
  {
   "cell_type": "markdown",
   "id": "044be293",
   "metadata": {},
   "source": [
    "# 3. Trial plots <a class=\"anchor\" id=\"3\"></a>"
   ]
  },
  {
   "cell_type": "code",
   "execution_count": 16,
   "id": "c1c32850",
   "metadata": {},
   "outputs": [],
   "source": [
    "font = 12"
   ]
  },
  {
   "cell_type": "markdown",
   "id": "bd1d826e",
   "metadata": {},
   "source": [
    "## 3.1 Number of protection plans activated per Catalonia regions <a class=\"anchor\" id=\"3.1\"></a>"
   ]
  },
  {
   "cell_type": "markdown",
   "id": "97c69bfa",
   "metadata": {},
   "source": [
    "### 3.1.1. Províncies <a class=\"anchor\" id=\"3.1.1\"></a>"
   ]
  },
  {
   "cell_type": "code",
   "execution_count": 17,
   "id": "2b42963c",
   "metadata": {},
   "outputs": [],
   "source": [
    "nplans_prov = protection_plans.groupby('Província').size().reset_index(name='# plans')"
   ]
  },
  {
   "cell_type": "code",
   "execution_count": 18,
   "id": "69e50e55",
   "metadata": {},
   "outputs": [
    {
     "data": {
      "text/html": [
       "<div>\n",
       "<style scoped>\n",
       "    .dataframe tbody tr th:only-of-type {\n",
       "        vertical-align: middle;\n",
       "    }\n",
       "\n",
       "    .dataframe tbody tr th {\n",
       "        vertical-align: top;\n",
       "    }\n",
       "\n",
       "    .dataframe thead th {\n",
       "        text-align: right;\n",
       "    }\n",
       "</style>\n",
       "<table border=\"1\" class=\"dataframe\">\n",
       "  <thead>\n",
       "    <tr style=\"text-align: right;\">\n",
       "      <th></th>\n",
       "      <th>CODIPROV</th>\n",
       "      <th>NOMPROV</th>\n",
       "      <th>CAPPROV</th>\n",
       "      <th>AREAP5000</th>\n",
       "      <th>geometry</th>\n",
       "    </tr>\n",
       "  </thead>\n",
       "  <tbody>\n",
       "    <tr>\n",
       "      <th>0</th>\n",
       "      <td>08</td>\n",
       "      <td>Barcelona</td>\n",
       "      <td>Barcelona</td>\n",
       "      <td>7730.5077</td>\n",
       "      <td>MULTIPOLYGON (((386943.411 4561257.965, 386961...</td>\n",
       "    </tr>\n",
       "    <tr>\n",
       "      <th>1</th>\n",
       "      <td>17</td>\n",
       "      <td>Girona</td>\n",
       "      <td>Girona</td>\n",
       "      <td>5902.1773</td>\n",
       "      <td>MULTIPOLYGON (((482690.024 4613155.364, 482688...</td>\n",
       "    </tr>\n",
       "    <tr>\n",
       "      <th>2</th>\n",
       "      <td>25</td>\n",
       "      <td>Lleida</td>\n",
       "      <td>Lleida</td>\n",
       "      <td>12165.5722</td>\n",
       "      <td>MULTIPOLYGON (((393371.457 4638570.630, 393374...</td>\n",
       "    </tr>\n",
       "    <tr>\n",
       "      <th>3</th>\n",
       "      <td>43</td>\n",
       "      <td>Tarragona</td>\n",
       "      <td>Tarragona</td>\n",
       "      <td>6305.7083</td>\n",
       "      <td>MULTIPOLYGON (((298299.980 4494128.520, 298299...</td>\n",
       "    </tr>\n",
       "  </tbody>\n",
       "</table>\n",
       "</div>"
      ],
      "text/plain": [
       "  CODIPROV    NOMPROV    CAPPROV   AREAP5000  \\\n",
       "0       08  Barcelona  Barcelona   7730.5077   \n",
       "1       17     Girona     Girona   5902.1773   \n",
       "2       25     Lleida     Lleida  12165.5722   \n",
       "3       43  Tarragona  Tarragona   6305.7083   \n",
       "\n",
       "                                            geometry  \n",
       "0  MULTIPOLYGON (((386943.411 4561257.965, 386961...  \n",
       "1  MULTIPOLYGON (((482690.024 4613155.364, 482688...  \n",
       "2  MULTIPOLYGON (((393371.457 4638570.630, 393374...  \n",
       "3  MULTIPOLYGON (((298299.980 4494128.520, 298299...  "
      ]
     },
     "execution_count": 18,
     "metadata": {},
     "output_type": "execute_result"
    }
   ],
   "source": [
    "cat_prov = gpd.read_file(\"cat/provincies/divisions-administratives-v2r1-provincies-100000-20230928.shx\")\n",
    "cat_prov"
   ]
  },
  {
   "cell_type": "code",
   "execution_count": 19,
   "id": "020f75af",
   "metadata": {},
   "outputs": [
    {
     "data": {
      "image/png": "[encoded data removed]",
      "text/plain": [
       "<Figure size 1000x800 with 2 Axes>"
      ]
     },
     "metadata": {},
     "output_type": "display_data"
    }
   ],
   "source": [
    "# Merge between shapefile & data\n",
    "nplans_prov_merge = cat_prov.merge(nplans_prov, how='left', left_on='NOMPROV', right_on='Província')\n",
    "\n",
    "# Conserve original geometry\n",
    "nplans_prov_merge_gpd = gpd.GeoDataFrame(nplans_prov_merge, geometry=\"geometry\")\n",
    "\n",
    "# Plot\n",
    "fig, ax = plt.subplots(figsize=(10,8))\n",
    "plot = nplans_prov_merge_gpd.plot(column='# plans',\n",
    "                                  cmap='Blues',\n",
    "                                  norm = LogNorm(),\n",
    "                                  ax=ax,\n",
    "                                  legend=False)\n",
    "\n",
    "nplans_prov_merge_gpd.boundary.plot(ax=ax, linewidth=0.5, color='black')\n",
    "\n",
    "cbar = fig.colorbar(plot.get_children()[0], ax=ax, label=r'Protection plans per $\\text{província}$')\n",
    "\n",
    "ax.set_xticks([])\n",
    "ax.set_yticks([])\n",
    "ax.set_xticks([])\n",
    "ax.set_yticks([])\n",
    "\n",
    "ax.set_aspect('equal')\n",
    "\n",
    "ax.spines['top'].set_color('none')\n",
    "ax.spines['bottom'].set_color('none')\n",
    "ax.spines['left'].set_color('none')\n",
    "ax.spines['right'].set_color('none')\n",
    "\n",
    "ruta = fig_dir+\"protection_plans/protection_plans-geo_prov\"\n",
    "plt.savefig(ruta, dpi=500,bbox_inches='tight')"
   ]
  },
  {
   "cell_type": "markdown",
   "id": "30ad0ebc",
   "metadata": {},
   "source": [
    "### 3.1.2. Comarques <a class=\"anchor\" id=\"3.1.2\"></a>"
   ]
  },
  {
   "cell_type": "code",
   "execution_count": 20,
   "id": "2874e171",
   "metadata": {},
   "outputs": [],
   "source": [
    "protection_plans.replace(\"Aran\",\"Val d'Aran\", inplace=True)"
   ]
  },
  {
   "cell_type": "code",
   "execution_count": 21,
   "id": "c346c1f4",
   "metadata": {},
   "outputs": [],
   "source": [
    "nplans_comar = protection_plans.groupby('Comarca').size().reset_index(name='# plans')"
   ]
  },
  {
   "cell_type": "code",
   "execution_count": 22,
   "id": "183fad40",
   "metadata": {},
   "outputs": [
    {
     "data": {
      "text/html": [
       "<div>\n",
       "<style scoped>\n",
       "    .dataframe tbody tr th:only-of-type {\n",
       "        vertical-align: middle;\n",
       "    }\n",
       "\n",
       "    .dataframe tbody tr th {\n",
       "        vertical-align: top;\n",
       "    }\n",
       "\n",
       "    .dataframe thead th {\n",
       "        text-align: right;\n",
       "    }\n",
       "</style>\n",
       "<table border=\"1\" class=\"dataframe\">\n",
       "  <thead>\n",
       "    <tr style=\"text-align: right;\">\n",
       "      <th></th>\n",
       "      <th>CODICOMAR</th>\n",
       "      <th>NOMCOMAR</th>\n",
       "      <th>CAPCOMAR</th>\n",
       "      <th>AREAC5000</th>\n",
       "      <th>geometry</th>\n",
       "    </tr>\n",
       "  </thead>\n",
       "  <tbody>\n",
       "    <tr>\n",
       "      <th>0</th>\n",
       "      <td>01</td>\n",
       "      <td>Alt Camp</td>\n",
       "      <td>Valls</td>\n",
       "      <td>537.6317</td>\n",
       "      <td>POLYGON ((373635.755 4592021.079, 373669.333 4...</td>\n",
       "    </tr>\n",
       "    <tr>\n",
       "      <th>1</th>\n",
       "      <td>02</td>\n",
       "      <td>Alt Empordà</td>\n",
       "      <td>Figueres</td>\n",
       "      <td>1356.6431</td>\n",
       "      <td>MULTIPOLYGON (((514495.140 4662167.740, 514492...</td>\n",
       "    </tr>\n",
       "    <tr>\n",
       "      <th>2</th>\n",
       "      <td>03</td>\n",
       "      <td>Alt Penedès</td>\n",
       "      <td>Vilafranca del Penedès</td>\n",
       "      <td>592.5498</td>\n",
       "      <td>POLYGON ((385914.163 4595999.962, 386085.364 4...</td>\n",
       "    </tr>\n",
       "    <tr>\n",
       "      <th>3</th>\n",
       "      <td>04</td>\n",
       "      <td>Alt Urgell</td>\n",
       "      <td>la Seu d'Urgell</td>\n",
       "      <td>1447.2028</td>\n",
       "      <td>MULTIPOLYGON (((360736.000 4649167.000, 360624...</td>\n",
       "    </tr>\n",
       "    <tr>\n",
       "      <th>4</th>\n",
       "      <td>05</td>\n",
       "      <td>Alta Ribagorça</td>\n",
       "      <td>el Pont de Suert</td>\n",
       "      <td>427.2234</td>\n",
       "      <td>POLYGON ((326572.730 4721574.001, 326622.339 4...</td>\n",
       "    </tr>\n",
       "  </tbody>\n",
       "</table>\n",
       "</div>"
      ],
      "text/plain": [
       "  CODICOMAR        NOMCOMAR                CAPCOMAR  AREAC5000  \\\n",
       "0        01        Alt Camp                   Valls   537.6317   \n",
       "1        02     Alt Empordà                Figueres  1356.6431   \n",
       "2        03     Alt Penedès  Vilafranca del Penedès   592.5498   \n",
       "3        04      Alt Urgell         la Seu d'Urgell  1447.2028   \n",
       "4        05  Alta Ribagorça        el Pont de Suert   427.2234   \n",
       "\n",
       "                                            geometry  \n",
       "0  POLYGON ((373635.755 4592021.079, 373669.333 4...  \n",
       "1  MULTIPOLYGON (((514495.140 4662167.740, 514492...  \n",
       "2  POLYGON ((385914.163 4595999.962, 386085.364 4...  \n",
       "3  MULTIPOLYGON (((360736.000 4649167.000, 360624...  \n",
       "4  POLYGON ((326572.730 4721574.001, 326622.339 4...  "
      ]
     },
     "execution_count": 22,
     "metadata": {},
     "output_type": "execute_result"
    }
   ],
   "source": [
    "cat_comar = gpd.read_file(\"cat/comarques/divisions-administratives-v2r1-comarques-100000-20220801.shx\")\n",
    "cat_comar.head()"
   ]
  },
  {
   "cell_type": "code",
   "execution_count": 23,
   "id": "e5a740e0",
   "metadata": {},
   "outputs": [
    {
     "data": {
      "image/png": "[encoded data removed]",
      "text/plain": [
       "<Figure size 1000x800 with 2 Axes>"
      ]
     },
     "metadata": {},
     "output_type": "display_data"
    }
   ],
   "source": [
    "# Merge between shapefile & data\n",
    "nplans_comar_merge = cat_comar.merge(nplans_comar, how='left', left_on='NOMCOMAR', right_on='Comarca')\n",
    "\n",
    "# Conserve original geometry\n",
    "nplans_comar_merge_gpd = gpd.GeoDataFrame(nplans_comar_merge, geometry=\"geometry\")\n",
    "\n",
    "\n",
    "# Plot\n",
    "fig, ax = plt.subplots(figsize=(10,8))\n",
    "plot = nplans_comar_merge_gpd.plot(column='# plans',\n",
    "                                   cmap='Blues',\n",
    "                                   norm = LogNorm(),\n",
    "                                   ax=ax,\n",
    "                                   legend=False)\n",
    "\n",
    "nplans_comar_merge_gpd.boundary.plot(ax=ax, linewidth=0.5, color='black')\n",
    "\n",
    "cbar = fig.colorbar(plot.get_children()[0], ax=ax, label=r'Protection plans per $\\text{comarca}$')\n",
    "\n",
    "ax.set_xticks([])\n",
    "ax.set_yticks([])\n",
    "\n",
    "ax.set_xticks([])\n",
    "ax.set_yticks([])\n",
    "\n",
    "ax.set_aspect('equal')\n",
    "\n",
    "ax.spines['top'].set_color('none')\n",
    "ax.spines['bottom'].set_color('none')\n",
    "ax.spines['left'].set_color('none')\n",
    "ax.spines['right'].set_color('none')\n",
    "\n",
    "ruta = fig_dir+\"protection_plans/protection_plans-geo_comar\"\n",
    "plt.savefig(ruta, dpi=500,bbox_inches='tight')"
   ]
  },
  {
   "cell_type": "markdown",
   "id": "f80f2513",
   "metadata": {},
   "source": [
    "### 3.1.3. Municipis <a class=\"anchor\" id=\"3.1.3\"></a>"
   ]
  },
  {
   "cell_type": "code",
   "execution_count": 24,
   "id": "23b27155",
   "metadata": {},
   "outputs": [],
   "source": [
    "nplans_muni = protection_plans.groupby('Municipi').size().reset_index(name='# plans')"
   ]
  },
  {
   "cell_type": "code",
   "execution_count": 25,
   "id": "8d3663c9",
   "metadata": {},
   "outputs": [
    {
     "data": {
      "text/html": [
       "<div>\n",
       "<style scoped>\n",
       "    .dataframe tbody tr th:only-of-type {\n",
       "        vertical-align: middle;\n",
       "    }\n",
       "\n",
       "    .dataframe tbody tr th {\n",
       "        vertical-align: top;\n",
       "    }\n",
       "\n",
       "    .dataframe thead th {\n",
       "        text-align: right;\n",
       "    }\n",
       "</style>\n",
       "<table border=\"1\" class=\"dataframe\">\n",
       "  <thead>\n",
       "    <tr style=\"text-align: right;\">\n",
       "      <th></th>\n",
       "      <th>CODIMUNI</th>\n",
       "      <th>NOMMUNI</th>\n",
       "      <th>CAPMUNI</th>\n",
       "      <th>AREAM5000</th>\n",
       "      <th>CODICOMAR</th>\n",
       "      <th>NOMCOMAR</th>\n",
       "      <th>CAPCOMAR</th>\n",
       "      <th>CODIVEGUE</th>\n",
       "      <th>NOMVEGUE</th>\n",
       "      <th>CAPVEGUE</th>\n",
       "      <th>CODIPROV</th>\n",
       "      <th>NOMPROV</th>\n",
       "      <th>CAPPROV</th>\n",
       "      <th>geometry</th>\n",
       "    </tr>\n",
       "  </thead>\n",
       "  <tbody>\n",
       "    <tr>\n",
       "      <th>0</th>\n",
       "      <td>250019</td>\n",
       "      <td>Abella de la Conca</td>\n",
       "      <td>Abella de la Conca</td>\n",
       "      <td>77.970100</td>\n",
       "      <td>25</td>\n",
       "      <td>Pallars Jussà</td>\n",
       "      <td>Tremp</td>\n",
       "      <td>06</td>\n",
       "      <td>Alt Pirineu</td>\n",
       "      <td>*</td>\n",
       "      <td>25</td>\n",
       "      <td>Lleida</td>\n",
       "      <td>Lleida</td>\n",
       "      <td>POLYGON ((346678.012 4677003.965, 346688.592 4...</td>\n",
       "    </tr>\n",
       "    <tr>\n",
       "      <th>1</th>\n",
       "      <td>080018</td>\n",
       "      <td>Abrera</td>\n",
       "      <td>Abrera</td>\n",
       "      <td>19.978100</td>\n",
       "      <td>11</td>\n",
       "      <td>Baix Llobregat</td>\n",
       "      <td>Sant Feliu de Llobregat</td>\n",
       "      <td>01</td>\n",
       "      <td>Barcelona</td>\n",
       "      <td>Barcelona</td>\n",
       "      <td>08</td>\n",
       "      <td>Barcelona</td>\n",
       "      <td>Barcelona</td>\n",
       "      <td>POLYGON ((410315.500 4598888.500, 410888.800 4...</td>\n",
       "    </tr>\n",
       "    <tr>\n",
       "      <th>2</th>\n",
       "      <td>250024</td>\n",
       "      <td>Àger</td>\n",
       "      <td>Àger</td>\n",
       "      <td>160.202600</td>\n",
       "      <td>23</td>\n",
       "      <td>Noguera</td>\n",
       "      <td>Balaguer</td>\n",
       "      <td>03</td>\n",
       "      <td>Lleida</td>\n",
       "      <td>Lleida</td>\n",
       "      <td>25</td>\n",
       "      <td>Lleida</td>\n",
       "      <td>Lleida</td>\n",
       "      <td>POLYGON ((308157.549 4660767.518, 308220.898 4...</td>\n",
       "    </tr>\n",
       "    <tr>\n",
       "      <th>3</th>\n",
       "      <td>250030</td>\n",
       "      <td>Agramunt</td>\n",
       "      <td>Agramunt</td>\n",
       "      <td>79.359535</td>\n",
       "      <td>38</td>\n",
       "      <td>Urgell</td>\n",
       "      <td>Tàrrega</td>\n",
       "      <td>03</td>\n",
       "      <td>Lleida</td>\n",
       "      <td>Lleida</td>\n",
       "      <td>25</td>\n",
       "      <td>Lleida</td>\n",
       "      <td>Lleida</td>\n",
       "      <td>MULTIPOLYGON (((342659.900 4635474.900, 342566...</td>\n",
       "    </tr>\n",
       "    <tr>\n",
       "      <th>4</th>\n",
       "      <td>080023</td>\n",
       "      <td>Aguilar de Segarra</td>\n",
       "      <td>Aguilar de Segarra</td>\n",
       "      <td>43.219825</td>\n",
       "      <td>07</td>\n",
       "      <td>Bages</td>\n",
       "      <td>Manresa</td>\n",
       "      <td>07</td>\n",
       "      <td>Catalunya Central</td>\n",
       "      <td>*</td>\n",
       "      <td>08</td>\n",
       "      <td>Barcelona</td>\n",
       "      <td>Barcelona</td>\n",
       "      <td>POLYGON ((384343.603 4625174.347, 384397.036 4...</td>\n",
       "    </tr>\n",
       "  </tbody>\n",
       "</table>\n",
       "</div>"
      ],
      "text/plain": [
       "  CODIMUNI             NOMMUNI             CAPMUNI   AREAM5000 CODICOMAR  \\\n",
       "0   250019  Abella de la Conca  Abella de la Conca   77.970100        25   \n",
       "1   080018              Abrera              Abrera   19.978100        11   \n",
       "2   250024                Àger                Àger  160.202600        23   \n",
       "3   250030            Agramunt            Agramunt   79.359535        38   \n",
       "4   080023  Aguilar de Segarra  Aguilar de Segarra   43.219825        07   \n",
       "\n",
       "         NOMCOMAR                 CAPCOMAR CODIVEGUE           NOMVEGUE  \\\n",
       "0   Pallars Jussà                    Tremp        06        Alt Pirineu   \n",
       "1  Baix Llobregat  Sant Feliu de Llobregat        01          Barcelona   \n",
       "2         Noguera                 Balaguer        03             Lleida   \n",
       "3          Urgell                  Tàrrega        03             Lleida   \n",
       "4           Bages                  Manresa        07  Catalunya Central   \n",
       "\n",
       "    CAPVEGUE CODIPROV    NOMPROV    CAPPROV  \\\n",
       "0          *       25     Lleida     Lleida   \n",
       "1  Barcelona       08  Barcelona  Barcelona   \n",
       "2     Lleida       25     Lleida     Lleida   \n",
       "3     Lleida       25     Lleida     Lleida   \n",
       "4          *       08  Barcelona  Barcelona   \n",
       "\n",
       "                                            geometry  \n",
       "0  POLYGON ((346678.012 4677003.965, 346688.592 4...  \n",
       "1  POLYGON ((410315.500 4598888.500, 410888.800 4...  \n",
       "2  POLYGON ((308157.549 4660767.518, 308220.898 4...  \n",
       "3  MULTIPOLYGON (((342659.900 4635474.900, 342566...  \n",
       "4  POLYGON ((384343.603 4625174.347, 384397.036 4...  "
      ]
     },
     "execution_count": 25,
     "metadata": {},
     "output_type": "execute_result"
    }
   ],
   "source": [
    "cat_muni = gpd.read_file(\"cat/municipis/divisions-administratives-v2r1-municipis-100000-20230928.shx\")\n",
    "cat_muni.head()"
   ]
  },
  {
   "cell_type": "code",
   "execution_count": null,
   "id": "7a43b267",
   "metadata": {},
   "outputs": [],
   "source": [
    "# Merge between shapefile & data\n",
    "nplans_muni_merge = cat_muni.merge(nplans_muni, how='left', left_on='NOMMUNI', right_on='Municipi')\n",
    "\n",
    "# Conserve original geometry\n",
    "nplans_muni_merge_gpd = gpd.GeoDataFrame(nplans_muni_merge, geometry=\"geometry\")\n",
    "\n",
    "# Plot\n",
    "fig, ax = plt.subplots(figsize=(10,8))\n",
    "\n",
    "plot = nplans_muni_merge_gpd.plot(column='# plans',\n",
    "                                  cmap='Blues',\n",
    "                                  norm = LogNorm(),\n",
    "                                  ax=ax,\n",
    "                                  legend=False)\n",
    "\n",
    "nplans_muni_merge_gpd.boundary.plot(ax=ax, linewidth=0.5, color='black')\n",
    "\n",
    "cbar = fig.colorbar(plot.get_children()[0], ax=ax, label=r'Protection plans per $\\text{municipi}$')\n",
    "\n",
    "ax.set_xticks([])\n",
    "ax.set_yticks([])\n",
    "\n",
    "ax.set_aspect('equal')\n",
    "\n",
    "ax.spines['top'].set_color('none')\n",
    "ax.spines['bottom'].set_color('none')\n",
    "ax.spines['left'].set_color('none')\n",
    "ax.spines['right'].set_color('none')\n",
    "\n",
    "ruta = fig_dir+\"protection_plans/protection_plans-geo_muni\"\n",
    "plt.savefig(ruta, dpi=500,bbox_inches='tight')"
   ]
  },
  {
   "cell_type": "markdown",
   "id": "ad334a7b",
   "metadata": {},
   "source": [
    "## 3.2. Time evolution of protection plans <a class=\"anchor\" id=\"3.2\"></a>"
   ]
  },
  {
   "cell_type": "markdown",
   "id": "21220048",
   "metadata": {},
   "source": [
    "### 3.2.1. Grouped by províncies  <a class=\"anchor\" id=\"3.2.1\"></a>"
   ]
  },
  {
   "cell_type": "code",
   "execution_count": null,
   "id": "04b89f2a",
   "metadata": {},
   "outputs": [],
   "source": [
    "protection_plans = protection_plans.sort_values(by=\"Data de l'últim esdeveniment\").reset_index()"
   ]
  },
  {
   "cell_type": "code",
   "execution_count": null,
   "id": "4bfa19cb",
   "metadata": {},
   "outputs": [],
   "source": [
    "nplans_prov = pd.DataFrame({\"Província\":[],\"# plans\":[],\"year\":[]})\n",
    "\n",
    "selected_years = np.arange(2018,2023)\n",
    "\n",
    "for i in range(len(selected_years)):\n",
    "    protection_plans_year = protection_plans[(protection_plans[\"Data de l'últim esdeveniment\"].dt.year == selected_years[i])]\n",
    "    nplans_year_prov = protection_plans_year.groupby('Província').size().reset_index(name=f'# plans')\n",
    "    nplans_year_prov[\"year\"] = int(selected_years[i])\n",
    "    \n",
    "    nplans_prov = pd.concat([nplans_prov,nplans_year_prov])"
   ]
  },
  {
   "cell_type": "code",
   "execution_count": null,
   "id": "a0f76372",
   "metadata": {},
   "outputs": [],
   "source": [
    "nplans_prov[\"year\"] = nplans_prov[\"year\"].astype(int)\n",
    "nplans_prov[\"# plans\"] = nplans_prov[\"# plans\"].astype(int)\n",
    "nplans_prov.head()"
   ]
  },
  {
   "cell_type": "code",
   "execution_count": null,
   "id": "d6b2b42f",
   "metadata": {
    "scrolled": false
   },
   "outputs": [],
   "source": [
    "plt.figure(figsize=(8, 6))\n",
    "\n",
    "sns.barplot(data=nplans_prov,  x=\"year\",y=\"# plans\", hue=\"Província\", dodge=True)\n",
    "\n",
    "ruta = fig_dir+\"protection_plans/protection_plans-year_prov\"\n",
    "plt.savefig(ruta, dpi=500,bbox_inches='tight')"
   ]
  },
  {
   "cell_type": "markdown",
   "id": "ff53bb40",
   "metadata": {},
   "source": [
    "### 3.2.2. Grouped by typology  <a class=\"anchor\" id=\"3.2.2\"></a>"
   ]
  },
  {
   "cell_type": "code",
   "execution_count": null,
   "id": "516604dc",
   "metadata": {},
   "outputs": [],
   "source": [
    "nplans_type = pd.DataFrame({\"Nom del pla\":[],\"# plans\":[],\"year\":[]})\n",
    "\n",
    "selected_years = np.arange(2018,2023)\n",
    "\n",
    "for i in range(len(selected_years)):\n",
    "    protection_plans_year = protection_plans[(protection_plans[\"Data de l'últim esdeveniment\"].dt.year == selected_years[i])]\n",
    "    nplans_year_type = protection_plans_year.groupby('Nom del pla').size().reset_index(name=f'# plans')\n",
    "    nplans_year_type[\"year\"] = int(selected_years[i])\n",
    "    \n",
    "    nplans_type = pd.concat([nplans_type,nplans_year_type])\n",
    "\n",
    "nplans_type[\"year\"] = nplans_type[\"year\"].astype(int)"
   ]
  },
  {
   "cell_type": "code",
   "execution_count": null,
   "id": "3362d403",
   "metadata": {},
   "outputs": [],
   "source": [
    "plt.figure(figsize=(9, 6))\n",
    "\n",
    "sns.barplot(data=nplans_type,  x=\"year\",y=\"# plans\", hue=\"Nom del pla\", dodge=True)\n",
    "\n",
    "plt.legend(bbox_to_anchor=(1.25,1), loc=\"upper right\")\n",
    "ruta = fig_dir+\"protection_plans/protection_plans-year_type\"\n",
    "plt.savefig(ruta, dpi=500,bbox_inches='tight')"
   ]
  },
  {
   "cell_type": "code",
   "execution_count": null,
   "id": "53cd5889",
   "metadata": {},
   "outputs": [],
   "source": [
    "for year in selected_years:\n",
    "    \n",
    "\n",
    "plt.pie(nplans_type[\"# plans\"], labels=nplans_type[\"Nom del pla\"], autopct='%1.1f%%', startangle=140)\n",
    "plt.show()\n",
    "nplans_type[\"year\"] = nplans_type[\"year\"].astype(int)"
   ]
  },
  {
   "cell_type": "markdown",
   "id": "e888af66",
   "metadata": {},
   "source": [
    "## 3.3. Protection plans divided  <a class=\"anchor\" id=\"3.3\"></a>"
   ]
  },
  {
   "cell_type": "markdown",
   "id": "bd846ad6",
   "metadata": {},
   "source": [
    "### 3.3.1. Grouped by typology  <a class=\"anchor\" id=\"3.3.2\"></a>"
   ]
  },
  {
   "cell_type": "markdown",
   "id": "4bcdf2e1",
   "metadata": {},
   "source": [
    "### 3.3.2. Grouped by typology and província  <a class=\"anchor\" id=\"3.3.2\"></a>"
   ]
  },
  {
   "cell_type": "code",
   "execution_count": null,
   "id": "10b8ae79",
   "metadata": {},
   "outputs": [],
   "source": [
    "nplans_type_prov = protection_plans.groupby(['Nom del pla',\"Província\"]).size().reset_index(name='# plans')\n",
    "nplans_type_prov.head()"
   ]
  },
  {
   "cell_type": "code",
   "execution_count": null,
   "id": "e31bc9d0",
   "metadata": {},
   "outputs": [],
   "source": [
    "plt.figure(figsize=(10, 5))\n",
    "\n",
    "sns.barplot(data=nplans_type_prov,  x=\"Nom del pla\",y=\"# plans\", hue=\"Província\", dodge=True)\n",
    "\n",
    "plt.xticks(rotation = 90)\n",
    "\n",
    "ruta = fig_dir+\"protection_plans/protection_plans-type_prov\"\n",
    "plt.savefig(ruta, dpi=500,bbox_inches='tight')"
   ]
  },
  {
   "cell_type": "code",
   "execution_count": null,
   "id": "d7f40818",
   "metadata": {},
   "outputs": [],
   "source": []
  },
  {
   "cell_type": "code",
   "execution_count": null,
   "id": "9a780b24",
   "metadata": {},
   "outputs": [],
   "source": []
  }
 ],
 "metadata": {
  "kernelspec": {
   "display_name": "kernel_bigdata",
   "language": "python",
   "name": "kernel_bigdata"
  },
  "language_info": {
   "codemirror_mode": {
    "name": "ipython",
    "version": 3
   },
   "file_extension": ".py",
   "mimetype": "text/x-python",
   "name": "python",
   "nbconvert_exporter": "python",
   "pygments_lexer": "ipython3",
   "version": "3.9.13"
  }
 },
 "nbformat": 4,
 "nbformat_minor": 5
}
