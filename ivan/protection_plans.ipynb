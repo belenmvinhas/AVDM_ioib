{
 "cells": [
  {
   "cell_type": "markdown",
   "id": "4944d516",
   "metadata": {},
   "source": [
    "# Overview\n",
    "\n",
    "1. [__Importing data__](#1)\n",
    "    1. [Loading csv files](#1.1)\n",
    "\n",
    "\n",
    "2. [__Preprocessing data__](#2)\n",
    "    1. [Droping NaNs](#2.1)\n",
    "    2. [Cleaning dataset](#2.2)\n",
    "    3. [Datetime](#2.3)\n",
    "    4. [Selecting data](#2.4)\n",
    "\n",
    "\n",
    "3. [__Trial plots__](#3)\n",
    "    1. [Number of protection plans activated per Catalonia regions](#3.1)\n",
    "        1. [Províncies](#3.1.1)\n",
    "        2. [Comarques](#3.1.2)\n",
    "        3. [Municipis](#3.1.3)"
   ]
  },
  {
   "cell_type": "code",
   "execution_count": 1,
   "id": "9a5b6aba",
   "metadata": {},
   "outputs": [],
   "source": [
    "import pandas as pd\n",
    "import geopandas as gpd\n",
    "import numpy as np"
   ]
  },
  {
   "cell_type": "markdown",
   "id": "234b2fe1",
   "metadata": {},
   "source": [
    "# 1. Importing data <a class=\"anchor\" id=\"1\"></a>"
   ]
  },
  {
   "cell_type": "markdown",
   "id": "4b15e069",
   "metadata": {},
   "source": [
    "## 1.1. Loading csv files <a class=\"anchor\" id=\"1.1\"></a>"
   ]
  },
  {
   "cell_type": "code",
   "execution_count": 2,
   "id": "6c29616d",
   "metadata": {},
   "outputs": [],
   "source": [
    "data_dir = \"dades/\"\n",
    "\n",
    "rescue_actions = pd.read_csv(data_dir+\"Actuacions_en_salvaments_al_medi_natural_dels_Bombers_de_la_Generalitat_20231110.csv\")\n",
    "protection_plans = pd.read_csv(data_dir+\"Registre_general_de_plans_de_protecci__civil_de_Catalunya_20231110.csv\")\n",
    "inc_112 = pd.read_csv(data_dir+\"Dades_d_incidents_operatius_gestionats_pel_CAT112_20231110.csv\")\n",
    "calls_112 = pd.read_csv(data_dir+\"Dades_de_trucades_operatives_gestionades_pel_CAT112_20231110.csv\")\n"
   ]
  },
  {
   "cell_type": "markdown",
   "id": "8791dd72",
   "metadata": {},
   "source": [
    "https://analisi.transparenciacatalunya.cat/Seguretat/Actuacions-en-salvaments-al-medi-natural-dels-Bomb/fsum-2k6e\n",
    "https://analisi.transparenciacatalunya.cat/Seguretat/Registre-general-de-plans-de-protecci-civil-de-Cat/xqqe-tgav\n",
    "https://analisi.transparenciacatalunya.cat/Seguretat/Dades-d-incidents-operatius-gestionats-pel-CAT112/jq8m-d7cw\n",
    "https://analisi.transparenciacatalunya.cat/Seguretat/Dades-de-trucades-operatives-gestionades-pel-CAT11/mfqb-sbx4"
   ]
  },
  {
   "cell_type": "code",
   "execution_count": 3,
   "id": "9f5820be",
   "metadata": {},
   "outputs": [],
   "source": [
    "comarques = [\"Alt Camp\",\"Alt Empordà\",\"Alt Penedès\",\"Alt Urgell\",\"Alta Ribagorça\",\"Anoia\",\"Aran\",\"Bages\",\"Baix Camp\",\n",
    "             \"Baix Ebre\",\"Baix Empordà\",\"Baix Llobregat\",\"Baix Penedès\",\"Barcelonès\",\"Berguedà\",\"Cerdanya\",\n",
    "             \"Conca de Barberà\",\"Garraf\",\"Garrigues\",\"Garrotxa\",\"Gironès\",\"Maresme\",\"Moianès\",\"Montsià\",\n",
    "             \"Noguera\",\"Osona\",\"Pallars Jussà\",\"Pallars Sobirà\",\"Pla d'Urgell\",\"Pla de l'Estany\",\"Priorat\",\n",
    "             \"Ribera d'Ebre\",\"Ripollès\",\"Segarra\",\"Segrià\",\"Selva\",\"Solsonès\",\"Tarragonès\",\"Terra Alta\",\n",
    "             \"Urgell\",\"Vallès Occidental\",\"Vallès Oriental\"]"
   ]
  },
  {
   "cell_type": "markdown",
   "id": "65e0f36e",
   "metadata": {},
   "source": [
    "# 2. Preprocessing data <a class=\"anchor\" id=\"2\"></a>"
   ]
  },
  {
   "cell_type": "markdown",
   "id": "4d0de1c1",
   "metadata": {},
   "source": [
    "## 2.1. Dropping NaNs <a class=\"anchor\" id=\"2.1\"></a>"
   ]
  },
  {
   "cell_type": "code",
   "execution_count": 4,
   "id": "12521417",
   "metadata": {},
   "outputs": [],
   "source": [
    "rescue_actions.dropna(axis=0, inplace=True)\n",
    "protection_plans.dropna(axis=0, inplace=True)\n",
    "inc_112.dropna(axis=0, inplace=True)\n",
    "calls_112.dropna(axis=0, inplace=True)"
   ]
  },
  {
   "cell_type": "code",
   "execution_count": 5,
   "id": "ce09b5ed",
   "metadata": {},
   "outputs": [],
   "source": [
    "rescue_actions = rescue_actions.reset_index().drop(\"index\",axis=1)\n",
    "protection_plans = protection_plans.reset_index().drop(\"index\",axis=1)\n",
    "inc_112 = inc_112.reset_index().drop(\"index\",axis=1)\n",
    "calls_112 = calls_112.reset_index().drop(\"index\",axis=1)"
   ]
  },
  {
   "cell_type": "markdown",
   "id": "56cf53f8",
   "metadata": {},
   "source": [
    "# 2.2. Cleaning dataset <a class=\"anchor\" id=\"2.2\"></a>"
   ]
  },
  {
   "cell_type": "code",
   "execution_count": 6,
   "id": "4f4f039c",
   "metadata": {},
   "outputs": [
    {
     "data": {
      "text/plain": [
       "Index(['Tipus pla', 'Número d'inscripció', 'Nom del pla', 'Estat',\n",
       "       'Data d'homologació', 'Últim esdeveniment',\n",
       "       'Data de l'últim esdeveniment', 'Ine5', 'Municipi', 'Comarca',\n",
       "       'Servei territorial', 'Vegueria', 'Província'],\n",
       "      dtype='object')"
      ]
     },
     "execution_count": 6,
     "metadata": {},
     "output_type": "execute_result"
    }
   ],
   "source": [
    "protection_plans.columns"
   ]
  },
  {
   "cell_type": "code",
   "execution_count": 7,
   "id": "26d0c433",
   "metadata": {},
   "outputs": [],
   "source": [
    "dropped_cols = [\"Número d'inscripció\",\"Ine5\",\"Vegueria\",\"Servei territorial\"]\n",
    "\n",
    "protection_plans = protection_plans.drop(dropped_cols,axis=1)"
   ]
  },
  {
   "cell_type": "code",
   "execution_count": 8,
   "id": "88354bee",
   "metadata": {},
   "outputs": [],
   "source": [
    "for i in range(0,protection_plans.shape[0]):\n",
    "    protection_plans[\"Nom del pla\"][i] = protection_plans[\"Nom del pla\"][i].split(\" \")\n",
    "    \n",
    "    if protection_plans[\"Nom del pla\"][i][0] == \"PAM\" or protection_plans[\"Nom del pla\"][i][0] == \"Pam\":\n",
    "        protection_plans[\"Nom del pla\"][i] =  f\"PAM {protection_plans['Nom del pla'][i][1]}\"\n",
    "        \n",
    "    if protection_plans[\"Nom del pla\"][i][0] == \"PBEM\":\n",
    "        protection_plans[\"Nom del pla\"][i] = \"PBEM\"\n",
    "        \n",
    "    if protection_plans[\"Nom del pla\"][i][0] == \"PA\":\n",
    "        protection_plans[\"Nom del pla\"][i] = \"PA PROCICAT\"\n",
    "        \n",
    "    if protection_plans[\"Nom del pla\"][i][0] == \"PEM\":\n",
    "        protection_plans[\"Nom del pla\"][i] = \"PEM\"\n",
    "        \n",
    "    if protection_plans[\"Nom del pla\"][i][0] == \"Específic\":\n",
    "        protection_plans[\"Nom del pla\"][i] = \"Específic\""
   ]
  },
  {
   "cell_type": "code",
   "execution_count": 9,
   "id": "d5ede611",
   "metadata": {},
   "outputs": [],
   "source": [
    "tipus_pla = protection_plans[\"Tipus pla\"].unique()\n",
    "nom_pla = protection_plans[\"Nom del pla\"].unique()\n",
    "esdeveniment = protection_plans[\"Últim esdeveniment\"].unique()"
   ]
  },
  {
   "cell_type": "markdown",
   "id": "997d2fa7",
   "metadata": {},
   "source": [
    "### Columns\n",
    "\n",
    "1. __Tipus pla__: T: per als plans territorials. E: per als plans especials. F: per als plans específics. C: per als plans d’actuació. Codi del municipi\n",
    "\n",
    "2. __Nom pla__: PAM (INFOCAT, SISMICAT, VENTCAT, NEUCAT, INUNCAT, TRANSCAT', PLASEQCAT, CAMCAT, RADCAT, AEROCAT, ALLAUCAT), Específic, PBEM, PEM, PA PROCICAT, PENTA"
   ]
  },
  {
   "cell_type": "markdown",
   "id": "d46d62b5",
   "metadata": {},
   "source": [
    "## 2.3. Datetime <a class=\"anchor\" id=\"2.3\"></a>"
   ]
  },
  {
   "cell_type": "code",
   "execution_count": 10,
   "id": "ea140489",
   "metadata": {},
   "outputs": [],
   "source": [
    "protection_plans[\"Data d'homologació\"] = pd.to_datetime(protection_plans[\"Data d'homologació\"], format='%d/%m/%Y')\n",
    "protection_plans[\"Data de l'últim esdeveniment\"] = pd.to_datetime(protection_plans[\"Data de l'últim esdeveniment\"], format='%d/%m/%Y')\n"
   ]
  },
  {
   "cell_type": "markdown",
   "id": "2073b87f",
   "metadata": {},
   "source": [
    "## 2.4. Selecting data <a class=\"anchor\" id=\"2.4\"></a>"
   ]
  },
  {
   "cell_type": "code",
   "execution_count": 11,
   "id": "2deb4387",
   "metadata": {},
   "outputs": [],
   "source": [
    "protection_plans = protection_plans[(protection_plans[\"Data d'homologació\"].dt.year >= 2018) & (protection_plans[\"Data d'homologació\"].dt.year <= 2022)]\n",
    "protection_plans = protection_plans.reset_index().drop(\"index\",axis=1)\n",
    "\n"
   ]
  },
  {
   "cell_type": "code",
   "execution_count": 12,
   "id": "e529a83f",
   "metadata": {},
   "outputs": [
    {
     "data": {
      "text/html": [
       "<div>\n",
       "<style scoped>\n",
       "    .dataframe tbody tr th:only-of-type {\n",
       "        vertical-align: middle;\n",
       "    }\n",
       "\n",
       "    .dataframe tbody tr th {\n",
       "        vertical-align: top;\n",
       "    }\n",
       "\n",
       "    .dataframe thead th {\n",
       "        text-align: right;\n",
       "    }\n",
       "</style>\n",
       "<table border=\"1\" class=\"dataframe\">\n",
       "  <thead>\n",
       "    <tr style=\"text-align: right;\">\n",
       "      <th></th>\n",
       "      <th>Tipus pla</th>\n",
       "      <th>Nom del pla</th>\n",
       "      <th>Estat</th>\n",
       "      <th>Data d'homologació</th>\n",
       "      <th>Últim esdeveniment</th>\n",
       "      <th>Data de l'últim esdeveniment</th>\n",
       "      <th>Municipi</th>\n",
       "      <th>Comarca</th>\n",
       "      <th>Província</th>\n",
       "    </tr>\n",
       "  </thead>\n",
       "  <tbody>\n",
       "    <tr>\n",
       "      <th>0</th>\n",
       "      <td>E</td>\n",
       "      <td>PAM VENTCAT</td>\n",
       "      <td>Homologat</td>\n",
       "      <td>2022-03-10</td>\n",
       "      <td>Homologació</td>\n",
       "      <td>2022-03-10</td>\n",
       "      <td>Tàrrega</td>\n",
       "      <td>Urgell</td>\n",
       "      <td>Lleida</td>\n",
       "    </tr>\n",
       "    <tr>\n",
       "      <th>1</th>\n",
       "      <td>E</td>\n",
       "      <td>PAM INFOCAT</td>\n",
       "      <td>Homologat</td>\n",
       "      <td>2021-12-10</td>\n",
       "      <td>Homologació</td>\n",
       "      <td>2021-12-10</td>\n",
       "      <td>Colera</td>\n",
       "      <td>Alt Empordà</td>\n",
       "      <td>Girona</td>\n",
       "    </tr>\n",
       "    <tr>\n",
       "      <th>2</th>\n",
       "      <td>E</td>\n",
       "      <td>PAM NEUCAT</td>\n",
       "      <td>Homologat</td>\n",
       "      <td>2022-10-06</td>\n",
       "      <td>Homologació</td>\n",
       "      <td>2022-10-06</td>\n",
       "      <td>Avià</td>\n",
       "      <td>Berguedà</td>\n",
       "      <td>Barcelona</td>\n",
       "    </tr>\n",
       "    <tr>\n",
       "      <th>3</th>\n",
       "      <td>E</td>\n",
       "      <td>PAM NEUCAT</td>\n",
       "      <td>Homologat pendent de revisió</td>\n",
       "      <td>2019-03-21</td>\n",
       "      <td>Homologació</td>\n",
       "      <td>2019-03-21</td>\n",
       "      <td>Sant Quirze del Vallès</td>\n",
       "      <td>Vallès Occidental</td>\n",
       "      <td>Barcelona</td>\n",
       "    </tr>\n",
       "    <tr>\n",
       "      <th>4</th>\n",
       "      <td>E</td>\n",
       "      <td>PAM VENTCAT</td>\n",
       "      <td>Homologat pendent de revisió</td>\n",
       "      <td>2019-03-21</td>\n",
       "      <td>Homologació</td>\n",
       "      <td>2019-03-21</td>\n",
       "      <td>Sant Quirze del Vallès</td>\n",
       "      <td>Vallès Occidental</td>\n",
       "      <td>Barcelona</td>\n",
       "    </tr>\n",
       "    <tr>\n",
       "      <th>...</th>\n",
       "      <td>...</td>\n",
       "      <td>...</td>\n",
       "      <td>...</td>\n",
       "      <td>...</td>\n",
       "      <td>...</td>\n",
       "      <td>...</td>\n",
       "      <td>...</td>\n",
       "      <td>...</td>\n",
       "      <td>...</td>\n",
       "    </tr>\n",
       "    <tr>\n",
       "      <th>2758</th>\n",
       "      <td>T</td>\n",
       "      <td>PBEM</td>\n",
       "      <td>Homologat pendent de revisió</td>\n",
       "      <td>2018-12-05</td>\n",
       "      <td>Homologació</td>\n",
       "      <td>2018-12-05</td>\n",
       "      <td>Gósol</td>\n",
       "      <td>Berguedà</td>\n",
       "      <td>Lleida</td>\n",
       "    </tr>\n",
       "    <tr>\n",
       "      <th>2759</th>\n",
       "      <td>E</td>\n",
       "      <td>PAM NEUCAT</td>\n",
       "      <td>Homologat pendent de revisió</td>\n",
       "      <td>2019-03-21</td>\n",
       "      <td>Homologació</td>\n",
       "      <td>2019-03-21</td>\n",
       "      <td>Espinelves</td>\n",
       "      <td>Osona</td>\n",
       "      <td>Girona</td>\n",
       "    </tr>\n",
       "    <tr>\n",
       "      <th>2760</th>\n",
       "      <td>E</td>\n",
       "      <td>PAM SISMICAT</td>\n",
       "      <td>Homologat pendent de revisió</td>\n",
       "      <td>2019-03-21</td>\n",
       "      <td>Homologació</td>\n",
       "      <td>2019-03-21</td>\n",
       "      <td>Espinelves</td>\n",
       "      <td>Osona</td>\n",
       "      <td>Girona</td>\n",
       "    </tr>\n",
       "    <tr>\n",
       "      <th>2761</th>\n",
       "      <td>E</td>\n",
       "      <td>PAM NEUCAT</td>\n",
       "      <td>Homologat pendent de revisió</td>\n",
       "      <td>2019-03-21</td>\n",
       "      <td>Actualització</td>\n",
       "      <td>2019-09-19</td>\n",
       "      <td>Viladrau</td>\n",
       "      <td>Osona</td>\n",
       "      <td>Girona</td>\n",
       "    </tr>\n",
       "    <tr>\n",
       "      <th>2762</th>\n",
       "      <td>E</td>\n",
       "      <td>PAM NEUCAT</td>\n",
       "      <td>Homologat pendent de revisió</td>\n",
       "      <td>2018-12-05</td>\n",
       "      <td>Homologació</td>\n",
       "      <td>2018-12-05</td>\n",
       "      <td>Vidrà</td>\n",
       "      <td>Osona</td>\n",
       "      <td>Girona</td>\n",
       "    </tr>\n",
       "  </tbody>\n",
       "</table>\n",
       "<p>2763 rows × 9 columns</p>\n",
       "</div>"
      ],
      "text/plain": [
       "     Tipus pla   Nom del pla                         Estat Data d'homologació  \\\n",
       "0            E   PAM VENTCAT                     Homologat         2022-03-10   \n",
       "1            E   PAM INFOCAT                     Homologat         2021-12-10   \n",
       "2            E    PAM NEUCAT                     Homologat         2022-10-06   \n",
       "3            E    PAM NEUCAT  Homologat pendent de revisió         2019-03-21   \n",
       "4            E   PAM VENTCAT  Homologat pendent de revisió         2019-03-21   \n",
       "...        ...           ...                           ...                ...   \n",
       "2758         T          PBEM  Homologat pendent de revisió         2018-12-05   \n",
       "2759         E    PAM NEUCAT  Homologat pendent de revisió         2019-03-21   \n",
       "2760         E  PAM SISMICAT  Homologat pendent de revisió         2019-03-21   \n",
       "2761         E    PAM NEUCAT  Homologat pendent de revisió         2019-03-21   \n",
       "2762         E    PAM NEUCAT  Homologat pendent de revisió         2018-12-05   \n",
       "\n",
       "     Últim esdeveniment Data de l'últim esdeveniment                Municipi  \\\n",
       "0           Homologació                   2022-03-10                 Tàrrega   \n",
       "1           Homologació                   2021-12-10                  Colera   \n",
       "2           Homologació                   2022-10-06                    Avià   \n",
       "3           Homologació                   2019-03-21  Sant Quirze del Vallès   \n",
       "4           Homologació                   2019-03-21  Sant Quirze del Vallès   \n",
       "...                 ...                          ...                     ...   \n",
       "2758        Homologació                   2018-12-05                   Gósol   \n",
       "2759        Homologació                   2019-03-21              Espinelves   \n",
       "2760        Homologació                   2019-03-21              Espinelves   \n",
       "2761      Actualització                   2019-09-19                Viladrau   \n",
       "2762        Homologació                   2018-12-05                   Vidrà   \n",
       "\n",
       "                Comarca  Província  \n",
       "0                Urgell     Lleida  \n",
       "1           Alt Empordà     Girona  \n",
       "2              Berguedà  Barcelona  \n",
       "3     Vallès Occidental  Barcelona  \n",
       "4     Vallès Occidental  Barcelona  \n",
       "...                 ...        ...  \n",
       "2758           Berguedà     Lleida  \n",
       "2759              Osona     Girona  \n",
       "2760              Osona     Girona  \n",
       "2761              Osona     Girona  \n",
       "2762              Osona     Girona  \n",
       "\n",
       "[2763 rows x 9 columns]"
      ]
     },
     "execution_count": 12,
     "metadata": {},
     "output_type": "execute_result"
    }
   ],
   "source": [
    "protection_plans"
   ]
  },
  {
   "cell_type": "code",
   "execution_count": 13,
   "id": "998c4022",
   "metadata": {},
   "outputs": [],
   "source": [
    "#rescue_actions = rescue_actions[(rescue_actions[\"ANY\"] >= 2018) & (rescue_actions[\"ANY\"] <= 2022)]\n",
    "#protection_plans = protection_plans[protection_plans[\"Data d'homologació\"] >= \n",
    "#calls_112 = calls_112[(calls_112[\"ANY\"] >= 2018) & (calls_112[\"ANY\"] <= 2022)]\n",
    "#inc_112 = inc_112[(inc_112[\"ANY\"] >= 2018) & (inc_112[\"ANY\"] <= 2022)]\n"
   ]
  },
  {
   "cell_type": "markdown",
   "id": "044be293",
   "metadata": {},
   "source": [
    "# 4. Trial plots <a class=\"anchor\" id=\"3\"></a>"
   ]
  },
  {
   "cell_type": "code",
   "execution_count": 14,
   "id": "6c2f8b46",
   "metadata": {},
   "outputs": [
    {
     "ename": "DriverError",
     "evalue": "dades/divisions-administratives-v2r1-comarques-100000-20220801.shx: No such file or directory",
     "output_type": "error",
     "traceback": [
      "\u001b[0;31m---------------------------------------------------------------------------\u001b[0m",
      "\u001b[0;31mCPLE_OpenFailedError\u001b[0m                      Traceback (most recent call last)",
      "File \u001b[0;32mfiona/ogrext.pyx:136\u001b[0m, in \u001b[0;36mfiona.ogrext.gdal_open_vector\u001b[0;34m()\u001b[0m\n",
      "File \u001b[0;32mfiona/_err.pyx:291\u001b[0m, in \u001b[0;36mfiona._err.exc_wrap_pointer\u001b[0;34m()\u001b[0m\n",
      "\u001b[0;31mCPLE_OpenFailedError\u001b[0m: dades/divisions-administratives-v2r1-comarques-100000-20220801.shx: No such file or directory",
      "\nDuring handling of the above exception, another exception occurred:\n",
      "\u001b[0;31mDriverError\u001b[0m                               Traceback (most recent call last)",
      "Cell \u001b[0;32mIn[14], line 1\u001b[0m\n\u001b[0;32m----> 1\u001b[0m cat_map \u001b[38;5;241m=\u001b[39m \u001b[43mgpd\u001b[49m\u001b[38;5;241;43m.\u001b[39;49m\u001b[43mread_file\u001b[49m\u001b[43m(\u001b[49m\u001b[43mdata_dir\u001b[49m\u001b[43m \u001b[49m\u001b[38;5;241;43m+\u001b[39;49m\u001b[43m \u001b[49m\u001b[38;5;124;43m\"\u001b[39;49m\u001b[38;5;124;43mdivisions-administratives-v2r1-comarques-100000-20220801.shx\u001b[39;49m\u001b[38;5;124;43m\"\u001b[39;49m\u001b[43m)\u001b[49m\n\u001b[1;32m      2\u001b[0m cat_map\u001b[38;5;241m.\u001b[39mrename(columns \u001b[38;5;241m=\u001b[39m {\u001b[38;5;124m'\u001b[39m\u001b[38;5;124mNOMCOMAR\u001b[39m\u001b[38;5;124m'\u001b[39m:\u001b[38;5;124m'\u001b[39m\u001b[38;5;124mNOM_COMARCA\u001b[39m\u001b[38;5;124m'\u001b[39m}, inplace \u001b[38;5;241m=\u001b[39m \u001b[38;5;28;01mTrue\u001b[39;00m)\n\u001b[1;32m      3\u001b[0m cat_map\u001b[38;5;241m.\u001b[39mhead()\n",
      "File \u001b[0;32m~/Desktop/avdm/github-jvicens/bigdata/lib/python3.9/site-packages/geopandas/io/file.py:297\u001b[0m, in \u001b[0;36m_read_file\u001b[0;34m(filename, bbox, mask, rows, engine, **kwargs)\u001b[0m\n\u001b[1;32m    294\u001b[0m     \u001b[38;5;28;01melse\u001b[39;00m:\n\u001b[1;32m    295\u001b[0m         path_or_bytes \u001b[38;5;241m=\u001b[39m filename\n\u001b[0;32m--> 297\u001b[0m     \u001b[38;5;28;01mreturn\u001b[39;00m \u001b[43m_read_file_fiona\u001b[49m\u001b[43m(\u001b[49m\n\u001b[1;32m    298\u001b[0m \u001b[43m        \u001b[49m\u001b[43mpath_or_bytes\u001b[49m\u001b[43m,\u001b[49m\u001b[43m \u001b[49m\u001b[43mfrom_bytes\u001b[49m\u001b[43m,\u001b[49m\u001b[43m \u001b[49m\u001b[43mbbox\u001b[49m\u001b[38;5;241;43m=\u001b[39;49m\u001b[43mbbox\u001b[49m\u001b[43m,\u001b[49m\u001b[43m \u001b[49m\u001b[43mmask\u001b[49m\u001b[38;5;241;43m=\u001b[39;49m\u001b[43mmask\u001b[49m\u001b[43m,\u001b[49m\u001b[43m \u001b[49m\u001b[43mrows\u001b[49m\u001b[38;5;241;43m=\u001b[39;49m\u001b[43mrows\u001b[49m\u001b[43m,\u001b[49m\u001b[43m \u001b[49m\u001b[38;5;241;43m*\u001b[39;49m\u001b[38;5;241;43m*\u001b[39;49m\u001b[43mkwargs\u001b[49m\n\u001b[1;32m    299\u001b[0m \u001b[43m    \u001b[49m\u001b[43m)\u001b[49m\n\u001b[1;32m    301\u001b[0m \u001b[38;5;28;01melse\u001b[39;00m:\n\u001b[1;32m    302\u001b[0m     \u001b[38;5;28;01mraise\u001b[39;00m \u001b[38;5;167;01mValueError\u001b[39;00m(\u001b[38;5;124mf\u001b[39m\u001b[38;5;124m\"\u001b[39m\u001b[38;5;124munknown engine \u001b[39m\u001b[38;5;124m'\u001b[39m\u001b[38;5;132;01m{\u001b[39;00mengine\u001b[38;5;132;01m}\u001b[39;00m\u001b[38;5;124m'\u001b[39m\u001b[38;5;124m\"\u001b[39m)\n",
      "File \u001b[0;32m~/Desktop/avdm/github-jvicens/bigdata/lib/python3.9/site-packages/geopandas/io/file.py:338\u001b[0m, in \u001b[0;36m_read_file_fiona\u001b[0;34m(path_or_bytes, from_bytes, bbox, mask, rows, where, **kwargs)\u001b[0m\n\u001b[1;32m    335\u001b[0m     reader \u001b[38;5;241m=\u001b[39m fiona\u001b[38;5;241m.\u001b[39mopen\n\u001b[1;32m    337\u001b[0m \u001b[38;5;28;01mwith\u001b[39;00m fiona_env():\n\u001b[0;32m--> 338\u001b[0m     \u001b[38;5;28;01mwith\u001b[39;00m \u001b[43mreader\u001b[49m\u001b[43m(\u001b[49m\u001b[43mpath_or_bytes\u001b[49m\u001b[43m,\u001b[49m\u001b[43m \u001b[49m\u001b[38;5;241;43m*\u001b[39;49m\u001b[38;5;241;43m*\u001b[39;49m\u001b[43mkwargs\u001b[49m\u001b[43m)\u001b[49m \u001b[38;5;28;01mas\u001b[39;00m features:\n\u001b[1;32m    339\u001b[0m         crs \u001b[38;5;241m=\u001b[39m features\u001b[38;5;241m.\u001b[39mcrs_wkt\n\u001b[1;32m    340\u001b[0m         \u001b[38;5;66;03m# attempt to get EPSG code\u001b[39;00m\n",
      "File \u001b[0;32m~/Desktop/avdm/github-jvicens/bigdata/lib/python3.9/site-packages/fiona/env.py:457\u001b[0m, in \u001b[0;36mensure_env_with_credentials.<locals>.wrapper\u001b[0;34m(*args, **kwds)\u001b[0m\n\u001b[1;32m    454\u001b[0m     session \u001b[38;5;241m=\u001b[39m DummySession()\n\u001b[1;32m    456\u001b[0m \u001b[38;5;28;01mwith\u001b[39;00m env_ctor(session\u001b[38;5;241m=\u001b[39msession):\n\u001b[0;32m--> 457\u001b[0m     \u001b[38;5;28;01mreturn\u001b[39;00m \u001b[43mf\u001b[49m\u001b[43m(\u001b[49m\u001b[38;5;241;43m*\u001b[39;49m\u001b[43margs\u001b[49m\u001b[43m,\u001b[49m\u001b[43m \u001b[49m\u001b[38;5;241;43m*\u001b[39;49m\u001b[38;5;241;43m*\u001b[39;49m\u001b[43mkwds\u001b[49m\u001b[43m)\u001b[49m\n",
      "File \u001b[0;32m~/Desktop/avdm/github-jvicens/bigdata/lib/python3.9/site-packages/fiona/__init__.py:292\u001b[0m, in \u001b[0;36mopen\u001b[0;34m(fp, mode, driver, schema, crs, encoding, layer, vfs, enabled_drivers, crs_wkt, allow_unsupported_drivers, **kwargs)\u001b[0m\n\u001b[1;32m    289\u001b[0m     path \u001b[38;5;241m=\u001b[39m parse_path(fp)\n\u001b[1;32m    291\u001b[0m \u001b[38;5;28;01mif\u001b[39;00m mode \u001b[38;5;129;01min\u001b[39;00m (\u001b[38;5;124m\"\u001b[39m\u001b[38;5;124ma\u001b[39m\u001b[38;5;124m\"\u001b[39m, \u001b[38;5;124m\"\u001b[39m\u001b[38;5;124mr\u001b[39m\u001b[38;5;124m\"\u001b[39m):\n\u001b[0;32m--> 292\u001b[0m     colxn \u001b[38;5;241m=\u001b[39m \u001b[43mCollection\u001b[49m\u001b[43m(\u001b[49m\n\u001b[1;32m    293\u001b[0m \u001b[43m        \u001b[49m\u001b[43mpath\u001b[49m\u001b[43m,\u001b[49m\n\u001b[1;32m    294\u001b[0m \u001b[43m        \u001b[49m\u001b[43mmode\u001b[49m\u001b[43m,\u001b[49m\n\u001b[1;32m    295\u001b[0m \u001b[43m        \u001b[49m\u001b[43mdriver\u001b[49m\u001b[38;5;241;43m=\u001b[39;49m\u001b[43mdriver\u001b[49m\u001b[43m,\u001b[49m\n\u001b[1;32m    296\u001b[0m \u001b[43m        \u001b[49m\u001b[43mencoding\u001b[49m\u001b[38;5;241;43m=\u001b[39;49m\u001b[43mencoding\u001b[49m\u001b[43m,\u001b[49m\n\u001b[1;32m    297\u001b[0m \u001b[43m        \u001b[49m\u001b[43mlayer\u001b[49m\u001b[38;5;241;43m=\u001b[39;49m\u001b[43mlayer\u001b[49m\u001b[43m,\u001b[49m\n\u001b[1;32m    298\u001b[0m \u001b[43m        \u001b[49m\u001b[43menabled_drivers\u001b[49m\u001b[38;5;241;43m=\u001b[39;49m\u001b[43menabled_drivers\u001b[49m\u001b[43m,\u001b[49m\n\u001b[1;32m    299\u001b[0m \u001b[43m        \u001b[49m\u001b[43mallow_unsupported_drivers\u001b[49m\u001b[38;5;241;43m=\u001b[39;49m\u001b[43mallow_unsupported_drivers\u001b[49m\u001b[43m,\u001b[49m\n\u001b[1;32m    300\u001b[0m \u001b[43m        \u001b[49m\u001b[38;5;241;43m*\u001b[39;49m\u001b[38;5;241;43m*\u001b[39;49m\u001b[43mkwargs\u001b[49m\n\u001b[1;32m    301\u001b[0m \u001b[43m    \u001b[49m\u001b[43m)\u001b[49m\n\u001b[1;32m    302\u001b[0m \u001b[38;5;28;01melif\u001b[39;00m mode \u001b[38;5;241m==\u001b[39m \u001b[38;5;124m\"\u001b[39m\u001b[38;5;124mw\u001b[39m\u001b[38;5;124m\"\u001b[39m:\n\u001b[1;32m    303\u001b[0m     colxn \u001b[38;5;241m=\u001b[39m Collection(\n\u001b[1;32m    304\u001b[0m         path,\n\u001b[1;32m    305\u001b[0m         mode,\n\u001b[0;32m   (...)\u001b[0m\n\u001b[1;32m    314\u001b[0m         \u001b[38;5;241m*\u001b[39m\u001b[38;5;241m*\u001b[39mkwargs\n\u001b[1;32m    315\u001b[0m     )\n",
      "File \u001b[0;32m~/Desktop/avdm/github-jvicens/bigdata/lib/python3.9/site-packages/fiona/collection.py:243\u001b[0m, in \u001b[0;36mCollection.__init__\u001b[0;34m(self, path, mode, driver, schema, crs, encoding, layer, vsi, archive, enabled_drivers, crs_wkt, ignore_fields, ignore_geometry, include_fields, wkt_version, allow_unsupported_drivers, **kwargs)\u001b[0m\n\u001b[1;32m    241\u001b[0m \u001b[38;5;28;01mif\u001b[39;00m \u001b[38;5;28mself\u001b[39m\u001b[38;5;241m.\u001b[39mmode \u001b[38;5;241m==\u001b[39m \u001b[38;5;124m\"\u001b[39m\u001b[38;5;124mr\u001b[39m\u001b[38;5;124m\"\u001b[39m:\n\u001b[1;32m    242\u001b[0m     \u001b[38;5;28mself\u001b[39m\u001b[38;5;241m.\u001b[39msession \u001b[38;5;241m=\u001b[39m Session()\n\u001b[0;32m--> 243\u001b[0m     \u001b[38;5;28;43mself\u001b[39;49m\u001b[38;5;241;43m.\u001b[39;49m\u001b[43msession\u001b[49m\u001b[38;5;241;43m.\u001b[39;49m\u001b[43mstart\u001b[49m\u001b[43m(\u001b[49m\u001b[38;5;28;43mself\u001b[39;49m\u001b[43m,\u001b[49m\u001b[43m \u001b[49m\u001b[38;5;241;43m*\u001b[39;49m\u001b[38;5;241;43m*\u001b[39;49m\u001b[43mkwargs\u001b[49m\u001b[43m)\u001b[49m\n\u001b[1;32m    244\u001b[0m \u001b[38;5;28;01melif\u001b[39;00m \u001b[38;5;28mself\u001b[39m\u001b[38;5;241m.\u001b[39mmode \u001b[38;5;129;01min\u001b[39;00m (\u001b[38;5;124m\"\u001b[39m\u001b[38;5;124ma\u001b[39m\u001b[38;5;124m\"\u001b[39m, \u001b[38;5;124m\"\u001b[39m\u001b[38;5;124mw\u001b[39m\u001b[38;5;124m\"\u001b[39m):\n\u001b[1;32m    245\u001b[0m     \u001b[38;5;28mself\u001b[39m\u001b[38;5;241m.\u001b[39msession \u001b[38;5;241m=\u001b[39m WritingSession()\n",
      "File \u001b[0;32mfiona/ogrext.pyx:588\u001b[0m, in \u001b[0;36mfiona.ogrext.Session.start\u001b[0;34m()\u001b[0m\n",
      "File \u001b[0;32mfiona/ogrext.pyx:143\u001b[0m, in \u001b[0;36mfiona.ogrext.gdal_open_vector\u001b[0;34m()\u001b[0m\n",
      "\u001b[0;31mDriverError\u001b[0m: dades/divisions-administratives-v2r1-comarques-100000-20220801.shx: No such file or directory"
     ]
    }
   ],
   "source": [
    "cat_map = gpd.read_file(data_dir + \"divisions-administratives-v2r1-comarques-100000-20220801.shx\")\n",
    "cat_map.rename(columns = {'NOMCOMAR':'NOM_COMARCA'}, inplace = True)\n",
    "cat_map.head()"
   ]
  },
  {
   "cell_type": "markdown",
   "id": "bd1d826e",
   "metadata": {},
   "source": [
    "## 3.1 Number of protection plans per Catalonia regions <a class=\"anchor\" id=\"3.1\"></a>"
   ]
  },
  {
   "cell_type": "code",
   "execution_count": null,
   "id": "c561a933",
   "metadata": {},
   "outputs": [],
   "source": [
    "nplans_provincia = protection_plans.groupby('Província').size().reset_index(name='# plans')\n",
    "nplans_comarca = protection_plans.groupby('Comarca').size().reset_index(name='# plans')\n",
    "nplans_municpi = protection_plans.groupby('Municipi').size().reset_index(name='# plans')"
   ]
  },
  {
   "cell_type": "markdown",
   "id": "97c69bfa",
   "metadata": {},
   "source": [
    "### 3.1.1. Províncies <a class=\"anchor\" id=\"3.1.1\"></a>"
   ]
  },
  {
   "cell_type": "markdown",
   "id": "30ad0ebc",
   "metadata": {},
   "source": [
    "### 3.1.2. Comarques <a class=\"anchor\" id=\"3.1.2\"></a>"
   ]
  },
  {
   "cell_type": "code",
   "execution_count": null,
   "id": "183fad40",
   "metadata": {},
   "outputs": [],
   "source": [
    "cat_comarca = gpd.read_file(data_dir + \"divisions-administratives-v2r1-comarques-100000-20220801.shx\")\n",
    "cat_comarca.rename(columns = {'NOMCOMAR':'NOM_COMARCA'}, inplace = True)\n",
    "cat_comarca.head()"
   ]
  },
  {
   "cell_type": "code",
   "execution_count": null,
   "id": "0591a075",
   "metadata": {},
   "outputs": [],
   "source": [
    "nplans_comarca_merge = nplans_comarca.merge(cat_comarca, how='left', on='NOM_COMARCA')\n",
    "nplans_comarca_merge_gpd = gpd.GeoDataFrame(nplans_comarca_merge, geometry=\"geometry\")"
   ]
  },
  {
   "cell_type": "code",
   "execution_count": null,
   "id": "e23b4e46",
   "metadata": {},
   "outputs": [],
   "source": [
    "fig, ax = plt.subplots(1,1,figsize=(8,8))\n",
    "nplans_comarca_merge_gpd.plot(column = '# plans',\n",
    "                                  ax=ax,\n",
    "                                  cmap='Blues',\n",
    "                                  legend=True,\n",
    "                                  #legend_kwds={'orientation': \"horizontal\", 'pad': 0.02})\n",
    "#plt.savefig('figures/total_num_2018_2022.pdf')\n",
    "plt.show()"
   ]
  },
  {
   "cell_type": "markdown",
   "id": "f80f2513",
   "metadata": {},
   "source": [
    "### 3.1.3. Comarques <a class=\"anchor\" id=\"3.1.3\"></a>"
   ]
  }
 ],
 "metadata": {
  "kernelspec": {
   "display_name": "kernel_bigdata",
   "language": "python",
   "name": "kernel_bigdata"
  },
  "language_info": {
   "codemirror_mode": {
    "name": "ipython",
    "version": 3
   },
   "file_extension": ".py",
   "mimetype": "text/x-python",
   "name": "python",
   "nbconvert_exporter": "python",
   "pygments_lexer": "ipython3",
   "version": "3.9.13"
  }
 },
 "nbformat": 4,
 "nbformat_minor": 5
}
