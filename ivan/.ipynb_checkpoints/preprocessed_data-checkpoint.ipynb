{
 "cells": [
  {
   "cell_type": "markdown",
   "id": "4944d516",
   "metadata": {},
   "source": [
    "# PREPROCESSING DATA. Overview\n",
    "\n",
    "1. [__Importing data__](#1)\n",
    "    1. [Loading csv files](#1.1)\n",
    "\n",
    "\n",
    "2. [__Protection plans__](#2)\n",
    "    1. [Droping NaNs](#2.1)\n",
    "    2. [Cleaning dataset](#2.2)\n",
    "    3. [Datetime](#2.3)\n",
    "    4. [Selecting data from 2018 to 2022)](#2.4)\n",
    "    5. [Selecting plans related to 112 incidents & rescue actions](#2.5)\n",
    "\n",
    "\n",
    "3. [__112 incidents__](#3)\n",
    "    1. [Droping NaNs](#3.1)\n",
    "    2. [Cleaning dataset](#3.2)\n",
    "    3. [Datetime](#3.3)\n",
    "    4. [Selecting data (2018-2022)](#3.4)\n",
    "    5. [Selecting plans related to protection plans & rescue actions](#3.5)\n",
    "    6. [Labelling Catalonia maps](#3.6)\n",
    "    \n",
    "    \n",
    "4. [__Exporting data__](#4)"
   ]
  },
  {
   "cell_type": "code",
   "execution_count": 1,
   "id": "9a5b6aba",
   "metadata": {},
   "outputs": [],
   "source": [
    "import pandas as pd\n",
    "import numpy as np\n",
    "from datetime import datetime"
   ]
  },
  {
   "cell_type": "markdown",
   "id": "234b2fe1",
   "metadata": {},
   "source": [
    "# 1. Importing data <a class=\"anchor\" id=\"1\"></a>"
   ]
  },
  {
   "cell_type": "code",
   "execution_count": 2,
   "id": "0831c59d",
   "metadata": {},
   "outputs": [],
   "source": [
    "data_dir = \"../dades/\""
   ]
  },
  {
   "cell_type": "markdown",
   "id": "4b15e069",
   "metadata": {},
   "source": [
    "## 1.1. Loading csv files <a class=\"anchor\" id=\"1.1\"></a>"
   ]
  },
  {
   "cell_type": "code",
   "execution_count": 3,
   "id": "6c29616d",
   "metadata": {},
   "outputs": [],
   "source": [
    "protection_plans = pd.read_csv(data_dir+\"Registre_general_de_plans_de_protecci__civil_de_Catalunya_20231109.csv\")\n",
    "inc_112 = pd.read_csv(data_dir+\"Dades_d_incidents_operatius_gestionats_pel_CAT112_20231110.csv\")\n"
   ]
  },
  {
   "cell_type": "markdown",
   "id": "8791dd72",
   "metadata": {},
   "source": [
    "https://analisi.transparenciacatalunya.cat/Seguretat/Registre-general-de-plans-de-protecci-civil-de-Cat/xqqe-tgav\n",
    "https://analisi.transparenciacatalunya.cat/Seguretat/Dades-d-incidents-operatius-gestionats-pel-CAT112/jq8m-d7cw"
   ]
  },
  {
   "cell_type": "code",
   "execution_count": 4,
   "id": "9f5820be",
   "metadata": {},
   "outputs": [],
   "source": [
    "comarques = [\"Alt Camp\",\"Alt Empordà\",\"Alt Penedès\",\"Alt Urgell\",\"Alta Ribagorça\",\"Anoia\",\"Aran\",\"Bages\",\"Baix Camp\",\n",
    "             \"Baix Ebre\",\"Baix Empordà\",\"Baix Llobregat\",\"Baix Penedès\",\"Barcelonès\",\"Berguedà\",\"Cerdanya\",\n",
    "             \"Conca de Barberà\",\"Garraf\",\"Garrigues\",\"Garrotxa\",\"Gironès\",\"Maresme\",\"Moianès\",\"Montsià\",\n",
    "             \"Noguera\",\"Osona\",\"Pallars Jussà\",\"Pallars Sobirà\",\"Pla d'Urgell\",\"Pla de l'Estany\",\"Priorat\",\n",
    "             \"Ribera d'Ebre\",\"Ripollès\",\"Segarra\",\"Segrià\",\"Selva\",\"Solsonès\",\"Tarragonès\",\"Terra Alta\",\n",
    "             \"Urgell\",\"Vallès Occidental\",\"Vallès Oriental\"]"
   ]
  },
  {
   "cell_type": "markdown",
   "id": "65e0f36e",
   "metadata": {},
   "source": [
    "# 2. Protection plans <a class=\"anchor\" id=\"2\"></a>"
   ]
  },
  {
   "cell_type": "markdown",
   "id": "4d0de1c1",
   "metadata": {},
   "source": [
    "## 2.1. Dropping NaNs <a class=\"anchor\" id=\"2.1\"></a>"
   ]
  },
  {
   "cell_type": "markdown",
   "id": "43653720",
   "metadata": {},
   "source": [
    "We only conserve data from Municipal Plans to study them geographically"
   ]
  },
  {
   "cell_type": "code",
   "execution_count": 5,
   "id": "12521417",
   "metadata": {},
   "outputs": [],
   "source": [
    "protection_plans.dropna(axis=0, inplace=True)\n",
    "protection_plans = protection_plans.reset_index().drop(\"index\",axis=1)"
   ]
  },
  {
   "cell_type": "markdown",
   "id": "56cf53f8",
   "metadata": {},
   "source": [
    "# 2.2. Cleaning dataset <a class=\"anchor\" id=\"2.2\"></a>"
   ]
  },
  {
   "cell_type": "code",
   "execution_count": 6,
   "id": "4f4f039c",
   "metadata": {},
   "outputs": [
    {
     "data": {
      "text/plain": [
       "Index(['Tipus pla', 'Número d'inscripció', 'Nom del pla', 'Estat',\n",
       "       'Data d'homologació', 'Últim esdeveniment',\n",
       "       'Data de l'últim esdeveniment', 'Ine5', 'Municipi', 'Comarca',\n",
       "       'Servei territorial', 'Vegueria', 'Província'],\n",
       "      dtype='object')"
      ]
     },
     "execution_count": 6,
     "metadata": {},
     "output_type": "execute_result"
    }
   ],
   "source": [
    "protection_plans.columns"
   ]
  },
  {
   "cell_type": "code",
   "execution_count": 7,
   "id": "26d0c433",
   "metadata": {},
   "outputs": [],
   "source": [
    "dropped_cols = [\"Número d'inscripció\",\"Data d'homologació\",\"Estat\",\"Ine5\",\"Vegueria\",\"Servei territorial\"]\n",
    "\n",
    "protection_plans = protection_plans.drop(dropped_cols,axis=1)"
   ]
  },
  {
   "cell_type": "code",
   "execution_count": 8,
   "id": "88354bee",
   "metadata": {},
   "outputs": [],
   "source": [
    "for i in range(0,protection_plans.shape[0]):\n",
    "    protection_plans[\"Nom del pla\"][i] = protection_plans[\"Nom del pla\"][i].split(\" \")\n",
    "\n",
    "    if protection_plans[\"Nom del pla\"][i][0] == \"PAM\" and protection_plans[\"Nom del pla\"][i][1] == \"Pla\":\n",
    "        protection_plans[\"Nom del pla\"][i] = \"PAM PEEM\"\n",
    "        \n",
    "    if protection_plans[\"Nom del pla\"][i][0] == \"PAM\" or protection_plans[\"Nom del pla\"][i][0] == \"Pam\" and protection_plans[\"Nom del pla\"][i][1] != \"Pla\":\n",
    "        protection_plans[\"Nom del pla\"][i] =  f\"PAM {protection_plans['Nom del pla'][i][1]}\"\n",
    "        \n",
    "    if protection_plans[\"Nom del pla\"][i][0] == \"PBEM\":\n",
    "        protection_plans[\"Nom del pla\"][i] = \"PBEM\"\n",
    "        \n",
    "    if protection_plans[\"Nom del pla\"][i][0] == \"PA\":\n",
    "        protection_plans[\"Nom del pla\"][i] = \"PA PROCICAT\"\n",
    "        \n",
    "    if protection_plans[\"Nom del pla\"][i][0] == \"PEM\":\n",
    "        protection_plans[\"Nom del pla\"][i] = \"PEM\"\n",
    "        \n",
    "    if protection_plans[\"Nom del pla\"][i][0] == \"Específic\":\n",
    "        protection_plans[\"Nom del pla\"][i] = \"Específic\""
   ]
  },
  {
   "cell_type": "code",
   "execution_count": 9,
   "id": "d5ede611",
   "metadata": {},
   "outputs": [],
   "source": [
    "tipus_pla = protection_plans[\"Tipus pla\"].unique()\n",
    "nom_pla = protection_plans[\"Nom del pla\"].unique()\n",
    "esdeveniment = protection_plans[\"Últim esdeveniment\"].unique()"
   ]
  },
  {
   "cell_type": "markdown",
   "id": "997d2fa7",
   "metadata": {},
   "source": [
    "### Columns\n",
    "\n",
    "1. __Tipus pla__: T: per als plans territorials. E: per als plans especials. F: per als plans específics. C: per als plans d’actuació. Codi del municipi\n",
    "\n",
    "2. __Nom pla__: Plans d'Activació Municipal (INFOCAT, SISMICAT, VENTCAT, NEUCAT, INUNCAT, TRANSCAT', PLASEQCAT, CAMCAT, RADCAT, AEROCAT, ALLAUCAT, PEEM (Pla d'emergències epidèmiques per pandèmia) ), Específic, Pla Bàsic d'Emergència Municipal (PBEM), Pla d'Emergència Municipal (PEM), PA PROCICAT, PENTA"
   ]
  },
  {
   "cell_type": "markdown",
   "id": "d0811ecf",
   "metadata": {},
   "source": [
    "Moreover, we realize that we have to replace the name of the Val d'Aran county."
   ]
  },
  {
   "cell_type": "code",
   "execution_count": 10,
   "id": "eaed92f8",
   "metadata": {},
   "outputs": [],
   "source": [
    "protection_plans.replace(\"Aran\",\"Val d'Aran\", inplace=True)"
   ]
  },
  {
   "cell_type": "markdown",
   "id": "d46d62b5",
   "metadata": {},
   "source": [
    "## 2.3. Datetime <a class=\"anchor\" id=\"2.3\"></a>"
   ]
  },
  {
   "cell_type": "code",
   "execution_count": 11,
   "id": "ea140489",
   "metadata": {},
   "outputs": [],
   "source": [
    "protection_plans[\"Data de l'últim esdeveniment\"] = pd.to_datetime(protection_plans[\"Data de l'últim esdeveniment\"], format='%d/%m/%Y')\n"
   ]
  },
  {
   "cell_type": "markdown",
   "id": "2073b87f",
   "metadata": {},
   "source": [
    "## 2.4. Selecting data from 2018 to 2022 <a class=\"anchor\" id=\"2.4\"></a>"
   ]
  },
  {
   "cell_type": "code",
   "execution_count": 12,
   "id": "2deb4387",
   "metadata": {},
   "outputs": [],
   "source": [
    "protection_plans = protection_plans[(protection_plans[\"Data de l'últim esdeveniment\"].dt.year >= 2018) & (protection_plans[\"Data de l'últim esdeveniment\"].dt.year <= 2022)]\n",
    "protection_plans = protection_plans.reset_index().drop(\"index\",axis=1)\n",
    "\n",
    "# Sorting the values with the data\n",
    "protection_plans = protection_plans.sort_values(\"Data de l'últim esdeveniment\")"
   ]
  },
  {
   "cell_type": "markdown",
   "id": "98fa6491",
   "metadata": {},
   "source": [
    " ## 2.5. Selecting plans related to 112 incidents & rescue actions <a class=\"anchor\" id=\"2.5\"></a>"
   ]
  },
  {
   "cell_type": "code",
   "execution_count": 13,
   "id": "9803d7f3",
   "metadata": {},
   "outputs": [
    {
     "data": {
      "text/plain": [
       "array(['PAM NEUCAT', 'PAM TRANSCAT', 'PAM INUNCAT', 'PAM ALLAUCAT',\n",
       "       'PAM INFOCAT', 'PBEM', 'PAM SISMICAT', 'PAM AEROCAT', 'PAM CAMCAT',\n",
       "       'PAM VENTCAT', 'PAM PLASEQCAT', 'PAM RADCAT', 'PA PROCICAT', 'PEM',\n",
       "       'Específic', 'PAM PEEM'], dtype=object)"
      ]
     },
     "execution_count": 13,
     "metadata": {},
     "output_type": "execute_result"
    }
   ],
   "source": [
    "protection_plans[\"Nom del pla\"].unique()"
   ]
  },
  {
   "cell_type": "code",
   "execution_count": 14,
   "id": "5725c6cd",
   "metadata": {},
   "outputs": [],
   "source": [
    "plans_selected = [\"PAM INFOCAT\",\"PAM NEUCAT\",\"PAM VENTCAT\",\"PAM SISMICAT\",\"PAM INUNCAT\", \"PAM ALLAUCAT\",\n",
    "                  \"PA PROCICAT\",\"PEM\",\"PAM PEEM\",\"Específic\"]\n",
    "protection_plans = protection_plans[protection_plans[\"Nom del pla\"].isin(plans_selected)]"
   ]
  },
  {
   "cell_type": "code",
   "execution_count": 15,
   "id": "0a03755c",
   "metadata": {},
   "outputs": [
    {
     "data": {
      "text/html": [
       "<div>\n",
       "<style scoped>\n",
       "    .dataframe tbody tr th:only-of-type {\n",
       "        vertical-align: middle;\n",
       "    }\n",
       "\n",
       "    .dataframe tbody tr th {\n",
       "        vertical-align: top;\n",
       "    }\n",
       "\n",
       "    .dataframe thead th {\n",
       "        text-align: right;\n",
       "    }\n",
       "</style>\n",
       "<table border=\"1\" class=\"dataframe\">\n",
       "  <thead>\n",
       "    <tr style=\"text-align: right;\">\n",
       "      <th></th>\n",
       "      <th>Tipus pla</th>\n",
       "      <th>Nom del pla</th>\n",
       "      <th>Últim esdeveniment</th>\n",
       "      <th>Data de l'últim esdeveniment</th>\n",
       "      <th>Municipi</th>\n",
       "      <th>Comarca</th>\n",
       "      <th>Província</th>\n",
       "    </tr>\n",
       "  </thead>\n",
       "  <tbody>\n",
       "    <tr>\n",
       "      <th>2766</th>\n",
       "      <td>E</td>\n",
       "      <td>PAM NEUCAT</td>\n",
       "      <td>Homologació</td>\n",
       "      <td>2018-12-05</td>\n",
       "      <td>Vidrà</td>\n",
       "      <td>Osona</td>\n",
       "      <td>Girona</td>\n",
       "    </tr>\n",
       "    <tr>\n",
       "      <th>2231</th>\n",
       "      <td>E</td>\n",
       "      <td>PAM INUNCAT</td>\n",
       "      <td>Homologació</td>\n",
       "      <td>2018-12-05</td>\n",
       "      <td>Xerta</td>\n",
       "      <td>Baix Ebre</td>\n",
       "      <td>Tarragona</td>\n",
       "    </tr>\n",
       "    <tr>\n",
       "      <th>838</th>\n",
       "      <td>E</td>\n",
       "      <td>PAM ALLAUCAT</td>\n",
       "      <td>Homologació</td>\n",
       "      <td>2018-12-05</td>\n",
       "      <td>Arres</td>\n",
       "      <td>Val d'Aran</td>\n",
       "      <td>Lleida</td>\n",
       "    </tr>\n",
       "    <tr>\n",
       "      <th>840</th>\n",
       "      <td>E</td>\n",
       "      <td>PAM INFOCAT</td>\n",
       "      <td>Homologació</td>\n",
       "      <td>2018-12-05</td>\n",
       "      <td>Serinyà</td>\n",
       "      <td>Pla de l'Estany</td>\n",
       "      <td>Girona</td>\n",
       "    </tr>\n",
       "    <tr>\n",
       "      <th>2229</th>\n",
       "      <td>E</td>\n",
       "      <td>PAM INFOCAT</td>\n",
       "      <td>Homologació</td>\n",
       "      <td>2018-12-05</td>\n",
       "      <td>Josa i Tuixén</td>\n",
       "      <td>Alt Urgell</td>\n",
       "      <td>Lleida</td>\n",
       "    </tr>\n",
       "    <tr>\n",
       "      <th>...</th>\n",
       "      <td>...</td>\n",
       "      <td>...</td>\n",
       "      <td>...</td>\n",
       "      <td>...</td>\n",
       "      <td>...</td>\n",
       "      <td>...</td>\n",
       "      <td>...</td>\n",
       "    </tr>\n",
       "    <tr>\n",
       "      <th>2084</th>\n",
       "      <td>E</td>\n",
       "      <td>PAM INFOCAT</td>\n",
       "      <td>Homologació</td>\n",
       "      <td>2022-12-15</td>\n",
       "      <td>Estamariu</td>\n",
       "      <td>Alt Urgell</td>\n",
       "      <td>Lleida</td>\n",
       "    </tr>\n",
       "    <tr>\n",
       "      <th>1054</th>\n",
       "      <td>T</td>\n",
       "      <td>PA PROCICAT</td>\n",
       "      <td>Homologació</td>\n",
       "      <td>2022-12-15</td>\n",
       "      <td>Sant Joan Despí</td>\n",
       "      <td>Baix Llobregat</td>\n",
       "      <td>Barcelona</td>\n",
       "    </tr>\n",
       "    <tr>\n",
       "      <th>1805</th>\n",
       "      <td>T</td>\n",
       "      <td>PA PROCICAT</td>\n",
       "      <td>Revisió</td>\n",
       "      <td>2022-12-15</td>\n",
       "      <td>Cervera</td>\n",
       "      <td>Segarra</td>\n",
       "      <td>Lleida</td>\n",
       "    </tr>\n",
       "    <tr>\n",
       "      <th>1808</th>\n",
       "      <td>E</td>\n",
       "      <td>PAM SISMICAT</td>\n",
       "      <td>Homologació</td>\n",
       "      <td>2022-12-15</td>\n",
       "      <td>Sant Joan Despí</td>\n",
       "      <td>Baix Llobregat</td>\n",
       "      <td>Barcelona</td>\n",
       "    </tr>\n",
       "    <tr>\n",
       "      <th>1439</th>\n",
       "      <td>T</td>\n",
       "      <td>PA PROCICAT</td>\n",
       "      <td>Revisió</td>\n",
       "      <td>2022-12-15</td>\n",
       "      <td>Montornès de Segarra</td>\n",
       "      <td>Segarra</td>\n",
       "      <td>Lleida</td>\n",
       "    </tr>\n",
       "  </tbody>\n",
       "</table>\n",
       "<p>2022 rows × 7 columns</p>\n",
       "</div>"
      ],
      "text/plain": [
       "     Tipus pla   Nom del pla Últim esdeveniment Data de l'últim esdeveniment  \\\n",
       "2766         E    PAM NEUCAT        Homologació                   2018-12-05   \n",
       "2231         E   PAM INUNCAT        Homologació                   2018-12-05   \n",
       "838          E  PAM ALLAUCAT        Homologació                   2018-12-05   \n",
       "840          E   PAM INFOCAT        Homologació                   2018-12-05   \n",
       "2229         E   PAM INFOCAT        Homologació                   2018-12-05   \n",
       "...        ...           ...                ...                          ...   \n",
       "2084         E   PAM INFOCAT        Homologació                   2022-12-15   \n",
       "1054         T   PA PROCICAT        Homologació                   2022-12-15   \n",
       "1805         T   PA PROCICAT            Revisió                   2022-12-15   \n",
       "1808         E  PAM SISMICAT        Homologació                   2022-12-15   \n",
       "1439         T   PA PROCICAT            Revisió                   2022-12-15   \n",
       "\n",
       "                  Municipi          Comarca  Província  \n",
       "2766                 Vidrà            Osona     Girona  \n",
       "2231                 Xerta        Baix Ebre  Tarragona  \n",
       "838                  Arres       Val d'Aran     Lleida  \n",
       "840                Serinyà  Pla de l'Estany     Girona  \n",
       "2229         Josa i Tuixén       Alt Urgell     Lleida  \n",
       "...                    ...              ...        ...  \n",
       "2084             Estamariu       Alt Urgell     Lleida  \n",
       "1054       Sant Joan Despí   Baix Llobregat  Barcelona  \n",
       "1805               Cervera          Segarra     Lleida  \n",
       "1808       Sant Joan Despí   Baix Llobregat  Barcelona  \n",
       "1439  Montornès de Segarra          Segarra     Lleida  \n",
       "\n",
       "[2022 rows x 7 columns]"
      ]
     },
     "execution_count": 15,
     "metadata": {},
     "output_type": "execute_result"
    }
   ],
   "source": [
    "protection_plans"
   ]
  },
  {
   "cell_type": "markdown",
   "id": "c74f2171",
   "metadata": {},
   "source": [
    "# 3. Preprocessing data: 112 incidents <a class=\"anchor\" id=\"3\"></a>"
   ]
  },
  {
   "cell_type": "markdown",
   "id": "af357ba4",
   "metadata": {},
   "source": [
    "## 3.1. Dropping NaNs <a class=\"anchor\" id=\"3.1\"></a>\n",
    "We only conserve data from Municipal Plans to study them geographically"
   ]
  },
  {
   "cell_type": "code",
   "execution_count": 16,
   "id": "9a780b24",
   "metadata": {},
   "outputs": [],
   "source": [
    "inc_112.dropna(axis=0, inplace=True)\n",
    "inc_112 = inc_112.reset_index().drop(\"index\",axis=1)"
   ]
  },
  {
   "cell_type": "markdown",
   "id": "8fedfbea",
   "metadata": {},
   "source": [
    "## 3.2. Cleaning dataset <a class=\"anchor\" id=\"3.2\"></a>"
   ]
  },
  {
   "cell_type": "code",
   "execution_count": 17,
   "id": "49a8e72f",
   "metadata": {},
   "outputs": [
    {
     "data": {
      "text/plain": [
       "Index(['ANY', 'MES', 'PROVINCIA', 'COMARCA', 'MUNICIPI', 'TIPUS', 'INCIDENTS'], dtype='object')"
      ]
     },
     "execution_count": 17,
     "metadata": {},
     "output_type": "execute_result"
    }
   ],
   "source": [
    "inc_112.columns"
   ]
  },
  {
   "cell_type": "code",
   "execution_count": 18,
   "id": "f2ab158d",
   "metadata": {},
   "outputs": [
    {
     "data": {
      "text/html": [
       "<div>\n",
       "<style scoped>\n",
       "    .dataframe tbody tr th:only-of-type {\n",
       "        vertical-align: middle;\n",
       "    }\n",
       "\n",
       "    .dataframe tbody tr th {\n",
       "        vertical-align: top;\n",
       "    }\n",
       "\n",
       "    .dataframe thead th {\n",
       "        text-align: right;\n",
       "    }\n",
       "</style>\n",
       "<table border=\"1\" class=\"dataframe\">\n",
       "  <thead>\n",
       "    <tr style=\"text-align: right;\">\n",
       "      <th></th>\n",
       "      <th>ANY</th>\n",
       "      <th>MES</th>\n",
       "      <th>PROVINCIA</th>\n",
       "      <th>COMARCA</th>\n",
       "      <th>MUNICIPI</th>\n",
       "      <th>TIPUS</th>\n",
       "      <th>INCIDENTS</th>\n",
       "    </tr>\n",
       "  </thead>\n",
       "  <tbody>\n",
       "    <tr>\n",
       "      <th>0</th>\n",
       "      <td>2023</td>\n",
       "      <td>10</td>\n",
       "      <td>BARCELONA</td>\n",
       "      <td>VALLES OCCIDENTAL</td>\n",
       "      <td>TERRASSA</td>\n",
       "      <td>Seguretat</td>\n",
       "      <td>1</td>\n",
       "    </tr>\n",
       "    <tr>\n",
       "      <th>1</th>\n",
       "      <td>2023</td>\n",
       "      <td>10</td>\n",
       "      <td>BARCELONA</td>\n",
       "      <td>Vallès Oriental</td>\n",
       "      <td>LLIÇA D'AMUNT</td>\n",
       "      <td>Accident</td>\n",
       "      <td>2</td>\n",
       "    </tr>\n",
       "    <tr>\n",
       "      <th>2</th>\n",
       "      <td>2023</td>\n",
       "      <td>10</td>\n",
       "      <td>GIRONA</td>\n",
       "      <td>Garrotxa</td>\n",
       "      <td>OLOT</td>\n",
       "      <td>Incendi</td>\n",
       "      <td>6</td>\n",
       "    </tr>\n",
       "    <tr>\n",
       "      <th>3</th>\n",
       "      <td>2023</td>\n",
       "      <td>10</td>\n",
       "      <td>TARRAGONA</td>\n",
       "      <td>Baix Camp</td>\n",
       "      <td>ALMOSTER</td>\n",
       "      <td>Incendi</td>\n",
       "      <td>1</td>\n",
       "    </tr>\n",
       "    <tr>\n",
       "      <th>4</th>\n",
       "      <td>2023</td>\n",
       "      <td>10</td>\n",
       "      <td>BARCELONA</td>\n",
       "      <td>Berguedà</td>\n",
       "      <td>CASTELLAR DEL RIU</td>\n",
       "      <td>Seguretat</td>\n",
       "      <td>2</td>\n",
       "    </tr>\n",
       "    <tr>\n",
       "      <th>...</th>\n",
       "      <td>...</td>\n",
       "      <td>...</td>\n",
       "      <td>...</td>\n",
       "      <td>...</td>\n",
       "      <td>...</td>\n",
       "      <td>...</td>\n",
       "      <td>...</td>\n",
       "    </tr>\n",
       "    <tr>\n",
       "      <th>507684</th>\n",
       "      <td>2014</td>\n",
       "      <td>1</td>\n",
       "      <td>GIRONA</td>\n",
       "      <td>ALT EMPORDA</td>\n",
       "      <td>CAPMANY</td>\n",
       "      <td>Seguretat</td>\n",
       "      <td>1</td>\n",
       "    </tr>\n",
       "    <tr>\n",
       "      <th>507685</th>\n",
       "      <td>2014</td>\n",
       "      <td>1</td>\n",
       "      <td>GIRONA</td>\n",
       "      <td>SELVA</td>\n",
       "      <td>VIDRERES</td>\n",
       "      <td>Incendi</td>\n",
       "      <td>4</td>\n",
       "    </tr>\n",
       "    <tr>\n",
       "      <th>507686</th>\n",
       "      <td>2014</td>\n",
       "      <td>1</td>\n",
       "      <td>GIRONA</td>\n",
       "      <td>PLA DE L'ESTANY</td>\n",
       "      <td>CRESPIA</td>\n",
       "      <td>Incendi</td>\n",
       "      <td>1</td>\n",
       "    </tr>\n",
       "    <tr>\n",
       "      <th>507687</th>\n",
       "      <td>2014</td>\n",
       "      <td>1</td>\n",
       "      <td>GIRONA</td>\n",
       "      <td>ALT EMPORDA</td>\n",
       "      <td>LLANÇA</td>\n",
       "      <td>Seguretat</td>\n",
       "      <td>13</td>\n",
       "    </tr>\n",
       "    <tr>\n",
       "      <th>507688</th>\n",
       "      <td>2014</td>\n",
       "      <td>1</td>\n",
       "      <td>TARRAGONA</td>\n",
       "      <td>BAIX EBRE</td>\n",
       "      <td>ROQUETES</td>\n",
       "      <td>Medi ambient</td>\n",
       "      <td>3</td>\n",
       "    </tr>\n",
       "  </tbody>\n",
       "</table>\n",
       "<p>507689 rows × 7 columns</p>\n",
       "</div>"
      ],
      "text/plain": [
       "         ANY  MES  PROVINCIA            COMARCA           MUNICIPI  \\\n",
       "0       2023   10  BARCELONA  VALLES OCCIDENTAL           TERRASSA   \n",
       "1       2023   10  BARCELONA    Vallès Oriental      LLIÇA D'AMUNT   \n",
       "2       2023   10     GIRONA           Garrotxa               OLOT   \n",
       "3       2023   10  TARRAGONA          Baix Camp           ALMOSTER   \n",
       "4       2023   10  BARCELONA           Berguedà  CASTELLAR DEL RIU   \n",
       "...      ...  ...        ...                ...                ...   \n",
       "507684  2014    1     GIRONA        ALT EMPORDA            CAPMANY   \n",
       "507685  2014    1     GIRONA              SELVA           VIDRERES   \n",
       "507686  2014    1     GIRONA    PLA DE L'ESTANY            CRESPIA   \n",
       "507687  2014    1     GIRONA        ALT EMPORDA             LLANÇA   \n",
       "507688  2014    1  TARRAGONA          BAIX EBRE           ROQUETES   \n",
       "\n",
       "               TIPUS  INCIDENTS  \n",
       "0          Seguretat          1  \n",
       "1           Accident          2  \n",
       "2            Incendi          6  \n",
       "3            Incendi          1  \n",
       "4          Seguretat          2  \n",
       "...              ...        ...  \n",
       "507684     Seguretat          1  \n",
       "507685       Incendi          4  \n",
       "507686       Incendi          1  \n",
       "507687     Seguretat         13  \n",
       "507688  Medi ambient          3  \n",
       "\n",
       "[507689 rows x 7 columns]"
      ]
     },
     "execution_count": 18,
     "metadata": {},
     "output_type": "execute_result"
    }
   ],
   "source": [
    "inc_112"
   ]
  },
  {
   "cell_type": "code",
   "execution_count": 19,
   "id": "81b396fd",
   "metadata": {},
   "outputs": [
    {
     "data": {
      "text/plain": [
       "array(['Seguretat', 'Accident', 'Incendi', 'Fuita (aigua, gas, altres)',\n",
       "       'Meteorologia', 'Altres incidències', 'Assistència sanitària',\n",
       "       'Civisme', 'Trànsit', 'Medi ambient'], dtype=object)"
      ]
     },
     "execution_count": 19,
     "metadata": {},
     "output_type": "execute_result"
    }
   ],
   "source": [
    "tipus_inc = inc_112[\"TIPUS\"].unique()\n",
    "tipus_inc"
   ]
  },
  {
   "cell_type": "markdown",
   "id": "4a42a853",
   "metadata": {},
   "source": [
    "## 3.3. Datetime <a class=\"anchor\" id=\"3.3\"></a>"
   ]
  },
  {
   "cell_type": "code",
   "execution_count": 20,
   "id": "d6aac143",
   "metadata": {},
   "outputs": [],
   "source": [
    "inc_112['ANY'] = inc_112['ANY'].astype(int)\n",
    "inc_112['MES'] = inc_112['MES'].astype(int)"
   ]
  },
  {
   "cell_type": "code",
   "execution_count": 21,
   "id": "d6413a1d",
   "metadata": {},
   "outputs": [],
   "source": [
    "inc_112['datetime'] = inc_112.apply(lambda inc_112: datetime(inc_112['ANY'], inc_112['MES'], 1), axis=1)\n",
    "inc_112 = inc_112.drop([\"ANY\",\"MES\"], axis=1)"
   ]
  },
  {
   "cell_type": "markdown",
   "id": "98dfd61a",
   "metadata": {},
   "source": [
    "## 3.4. Selecting data from 2018 to 2022 <a class=\"anchor\" id=\"3.4\"></a>"
   ]
  },
  {
   "cell_type": "code",
   "execution_count": 22,
   "id": "88496dcc",
   "metadata": {},
   "outputs": [],
   "source": [
    "inc_112 = inc_112[(inc_112[\"datetime\"].dt.year >= 2018) & (inc_112[\"datetime\"].dt.year <= 2022)].reset_index().drop(\"index\",axis=1)\n",
    "\n",
    "# Sorting the values with the data\n",
    "inc_112 = inc_112.sort_values('datetime')"
   ]
  },
  {
   "cell_type": "markdown",
   "id": "b8fbc9bf",
   "metadata": {},
   "source": [
    "## 3.5. Selecting plans related to protection plans & rescue actions <a class=\"anchor\" id=\"3.5\"></a>"
   ]
  },
  {
   "cell_type": "code",
   "execution_count": 23,
   "id": "dc152965",
   "metadata": {},
   "outputs": [],
   "source": [
    "inc_selected = [\"Incendi\",\"Accident\",\"Meteorologia\",\"Assistència sanitària\"]\n",
    "\n",
    "inc_112 = inc_112[inc_112[\"TIPUS\"].isin(inc_selected)]"
   ]
  },
  {
   "cell_type": "code",
   "execution_count": 24,
   "id": "43c48ed8",
   "metadata": {},
   "outputs": [
    {
     "data": {
      "text/html": [
       "<div>\n",
       "<style scoped>\n",
       "    .dataframe tbody tr th:only-of-type {\n",
       "        vertical-align: middle;\n",
       "    }\n",
       "\n",
       "    .dataframe tbody tr th {\n",
       "        vertical-align: top;\n",
       "    }\n",
       "\n",
       "    .dataframe thead th {\n",
       "        text-align: right;\n",
       "    }\n",
       "</style>\n",
       "<table border=\"1\" class=\"dataframe\">\n",
       "  <thead>\n",
       "    <tr style=\"text-align: right;\">\n",
       "      <th></th>\n",
       "      <th>PROVINCIA</th>\n",
       "      <th>COMARCA</th>\n",
       "      <th>MUNICIPI</th>\n",
       "      <th>TIPUS</th>\n",
       "      <th>INCIDENTS</th>\n",
       "      <th>datetime</th>\n",
       "    </tr>\n",
       "  </thead>\n",
       "  <tbody>\n",
       "    <tr>\n",
       "      <th>262853</th>\n",
       "      <td>BARCELONA</td>\n",
       "      <td>OSONA</td>\n",
       "      <td>MANLLEU</td>\n",
       "      <td>Accident</td>\n",
       "      <td>1</td>\n",
       "      <td>2018-01-01</td>\n",
       "    </tr>\n",
       "    <tr>\n",
       "      <th>262848</th>\n",
       "      <td>BARCELONA</td>\n",
       "      <td>ANOIA</td>\n",
       "      <td>ODENA</td>\n",
       "      <td>Assistència sanitària</td>\n",
       "      <td>21</td>\n",
       "      <td>2018-01-01</td>\n",
       "    </tr>\n",
       "    <tr>\n",
       "      <th>262847</th>\n",
       "      <td>BARCELONA</td>\n",
       "      <td>ANOIA</td>\n",
       "      <td>SANTA MARGARIDA DE MONTBUI</td>\n",
       "      <td>Incendi</td>\n",
       "      <td>2</td>\n",
       "      <td>2018-01-01</td>\n",
       "    </tr>\n",
       "    <tr>\n",
       "      <th>262846</th>\n",
       "      <td>GIRONA</td>\n",
       "      <td>SELVA</td>\n",
       "      <td>CALDES DE MALAVELLA</td>\n",
       "      <td>Incendi</td>\n",
       "      <td>4</td>\n",
       "      <td>2018-01-01</td>\n",
       "    </tr>\n",
       "    <tr>\n",
       "      <th>262844</th>\n",
       "      <td>BARCELONA</td>\n",
       "      <td>OSONA</td>\n",
       "      <td>TONA</td>\n",
       "      <td>Assistència sanitària</td>\n",
       "      <td>21</td>\n",
       "      <td>2018-01-01</td>\n",
       "    </tr>\n",
       "    <tr>\n",
       "      <th>...</th>\n",
       "      <td>...</td>\n",
       "      <td>...</td>\n",
       "      <td>...</td>\n",
       "      <td>...</td>\n",
       "      <td>...</td>\n",
       "      <td>...</td>\n",
       "    </tr>\n",
       "    <tr>\n",
       "      <th>2838</th>\n",
       "      <td>BARCELONA</td>\n",
       "      <td>BARCELONES</td>\n",
       "      <td>SANT ADRIA DE BESOS</td>\n",
       "      <td>Accident</td>\n",
       "      <td>2</td>\n",
       "      <td>2022-12-01</td>\n",
       "    </tr>\n",
       "    <tr>\n",
       "      <th>2837</th>\n",
       "      <td>TARRAGONA</td>\n",
       "      <td>PRIORAT</td>\n",
       "      <td>LA FIGUERA</td>\n",
       "      <td>Assistència sanitària</td>\n",
       "      <td>2</td>\n",
       "      <td>2022-12-01</td>\n",
       "    </tr>\n",
       "    <tr>\n",
       "      <th>2834</th>\n",
       "      <td>GIRONA</td>\n",
       "      <td>RIPOLLES</td>\n",
       "      <td>LES LLOSSES</td>\n",
       "      <td>Assistència sanitària</td>\n",
       "      <td>1</td>\n",
       "      <td>2022-12-01</td>\n",
       "    </tr>\n",
       "    <tr>\n",
       "      <th>2848</th>\n",
       "      <td>BARCELONA</td>\n",
       "      <td>ALT PENEDES</td>\n",
       "      <td>SANT SADURNI D'ANOIA</td>\n",
       "      <td>Incendi</td>\n",
       "      <td>5</td>\n",
       "      <td>2022-12-01</td>\n",
       "    </tr>\n",
       "    <tr>\n",
       "      <th>0</th>\n",
       "      <td>TARRAGONA</td>\n",
       "      <td>CONCA DE BARBERA</td>\n",
       "      <td>SANTA COLOMA DE QUERALT</td>\n",
       "      <td>Incendi</td>\n",
       "      <td>1</td>\n",
       "      <td>2022-12-01</td>\n",
       "    </tr>\n",
       "  </tbody>\n",
       "</table>\n",
       "<p>96100 rows × 6 columns</p>\n",
       "</div>"
      ],
      "text/plain": [
       "        PROVINCIA           COMARCA                    MUNICIPI  \\\n",
       "262853  BARCELONA             OSONA                     MANLLEU   \n",
       "262848  BARCELONA             ANOIA                       ODENA   \n",
       "262847  BARCELONA             ANOIA  SANTA MARGARIDA DE MONTBUI   \n",
       "262846     GIRONA             SELVA         CALDES DE MALAVELLA   \n",
       "262844  BARCELONA             OSONA                        TONA   \n",
       "...           ...               ...                         ...   \n",
       "2838    BARCELONA        BARCELONES         SANT ADRIA DE BESOS   \n",
       "2837    TARRAGONA           PRIORAT                  LA FIGUERA   \n",
       "2834       GIRONA          RIPOLLES                 LES LLOSSES   \n",
       "2848    BARCELONA       ALT PENEDES        SANT SADURNI D'ANOIA   \n",
       "0       TARRAGONA  CONCA DE BARBERA     SANTA COLOMA DE QUERALT   \n",
       "\n",
       "                        TIPUS  INCIDENTS   datetime  \n",
       "262853               Accident          1 2018-01-01  \n",
       "262848  Assistència sanitària         21 2018-01-01  \n",
       "262847                Incendi          2 2018-01-01  \n",
       "262846                Incendi          4 2018-01-01  \n",
       "262844  Assistència sanitària         21 2018-01-01  \n",
       "...                       ...        ...        ...  \n",
       "2838                 Accident          2 2022-12-01  \n",
       "2837    Assistència sanitària          2 2022-12-01  \n",
       "2834    Assistència sanitària          1 2022-12-01  \n",
       "2848                  Incendi          5 2022-12-01  \n",
       "0                     Incendi          1 2022-12-01  \n",
       "\n",
       "[96100 rows x 6 columns]"
      ]
     },
     "execution_count": 24,
     "metadata": {},
     "output_type": "execute_result"
    }
   ],
   "source": [
    "inc_112"
   ]
  },
  {
   "cell_type": "markdown",
   "id": "29d59c5b",
   "metadata": {},
   "source": [
    "## 3.6. Labelling Catalonia maps <a class=\"anchor\" id=\"3.6\"></a>"
   ]
  },
  {
   "cell_type": "code",
   "execution_count": 25,
   "id": "076874bc",
   "metadata": {},
   "outputs": [],
   "source": [
    "inc_112.replace(\"BARCELONA\",\"Barcelona\", inplace=True)\n",
    "inc_112.replace(\"LLEIDA\",\"Lleida\", inplace=True)\n",
    "inc_112.replace(\"TARRAGONA\",\"Tarragona\", inplace=True)\n",
    "inc_112.replace(\"GIRONA\",\"Girona\", inplace=True)"
   ]
  },
  {
   "cell_type": "code",
   "execution_count": 26,
   "id": "a8e0f328",
   "metadata": {},
   "outputs": [],
   "source": [
    "inc_112.replace(\"CONCA DE BARBERA\",\"Conca de Barberà\", inplace=True)\n",
    "inc_112.replace(\"PLA D'URGELL\",\"Pla d'Urgell\", inplace=True)\n",
    "inc_112.replace(\"SELVA\",\"Selva\", inplace=True)\n",
    "inc_112.replace(\"VALLES ORIENTAL\",\"Vallès Oriental\", inplace=True)\n",
    "inc_112.replace(\"CERDANYA\",\"Cerdanya\", inplace=True)\n",
    "inc_112.replace(\"ANOIA\",\"Anoia\", inplace=True)\n",
    "inc_112.replace(\"ALT CAMP\",\"Alt Camp\", inplace=True)\n",
    "inc_112.replace(\"VALLES OCCIDENTAL\",\"Vallès Occidental\", inplace=True)\n",
    "inc_112.replace(\"MONTSIA\",\"Montsià\", inplace=True)\n",
    "inc_112.replace(\"SEGRIA\",\"Segrià\", inplace=True)\n",
    "inc_112.replace(\"GARROTXA\",\"Garrotxa\", inplace=True)\n",
    "inc_112.replace(\"BAIX PENEDES\",\"Baix Penedès\", inplace=True)\n",
    "inc_112.replace(\"GIRONES\",\"Gironès\", inplace=True)\n",
    "inc_112.replace(\"OSONA\",\"Osona\", inplace=True)\n",
    "inc_112.replace(\"BAIX LLOBREGAT\",\"Baix Llobregat\", inplace=True)\n",
    "inc_112.replace(\"ALT URGELL\",\"Alt Urgell\", inplace=True)\n",
    "inc_112.replace(\"NOGUERA\",\"Noguera\", inplace=True)\n",
    "inc_112.replace(\"MARESME\",\"Maresme\", inplace=True)\n",
    "inc_112.replace(\"ALT EMPORDA\",\"Alt Empordà\", inplace=True)\n",
    "inc_112.replace(\"BAIX EMPORDA\",\"Baix Empordà\", inplace=True)\n",
    "inc_112.replace(\"ALT PENEDES\",\"Alt Penedès\", inplace=True)\n",
    "inc_112.replace(\"SOLSONES\",\"Solsonès\", inplace=True)\n",
    "inc_112.replace(\"TARRAGONES\",\"Tarragonès\", inplace=True)\n",
    "inc_112.replace(\"RIBERA D'EBRE\",\"Ribera d'Ebre\", inplace=True)\n",
    "inc_112.replace(\"GARRAF\",\"Garraf\", inplace=True)\n",
    "inc_112.replace(\"PALLARS SOBIRA\",\"Pallars Sobirà\", inplace=True)\n",
    "inc_112.replace(\"BERGUEDA\",\"Berguedà\", inplace=True)\n",
    "inc_112.replace(\"BAGES\",\"Bages\", inplace=True)\n",
    "inc_112.replace(\"BAIX CAMP\",\"Baix Camp\", inplace=True)\n",
    "inc_112.replace(\"GARRIGUES\",\"Garrigues\", inplace=True)\n",
    "inc_112.replace(\"BAIX EBRE\",\"Baix Ebre\", inplace=True)\n",
    "inc_112.replace(\"SEGARRA\",\"Segarra\", inplace=True)\n",
    "inc_112.replace(\"PLA DE L'ESTANY\",\"Pla de l'Estany\", inplace=True)\n",
    "inc_112.replace(\"PRIORAT\",\"Priorat\", inplace=True)\n",
    "inc_112.replace(\"VAL D'ARAN\",\"Val d'Aran\", inplace=True)\n",
    "inc_112.replace(\"BARCELONES\",\"Barcelonès\", inplace=True)\n",
    "inc_112.replace(\"URGELL\",\"Urgell\", inplace=True)\n",
    "inc_112.replace(\"RIPOLLES\",\"Ripollès\", inplace=True)\n",
    "inc_112.replace(\"ALTA RIBAGORÇA\",\"Alta Ribagorça\", inplace=True)\n",
    "inc_112.replace(\"TERRA ALTA\",\"Terra Alta\", inplace=True)\n",
    "inc_112.replace(\"MOIANES\",\"Moianès\", inplace=True)\n",
    "inc_112.replace(\"PALLARS JUSSA\",\"Pallars Jussà\", inplace=True)"
   ]
  },
  {
   "cell_type": "markdown",
   "id": "6930c27c",
   "metadata": {},
   "source": [
    "# 4. Exporting data <a class=\"anchor\" id=\"4\"></a>"
   ]
  },
  {
   "cell_type": "code",
   "execution_count": 27,
   "id": "a8884ca2",
   "metadata": {},
   "outputs": [],
   "source": [
    "preprocessed_data_dir = \"preprocessed_data/\""
   ]
  },
  {
   "cell_type": "code",
   "execution_count": 28,
   "id": "2ef81e09",
   "metadata": {},
   "outputs": [],
   "source": [
    "protection_plans.to_csv(preprocessed_data_dir+'protection_plans.csv')\n",
    "inc_112.to_csv(preprocessed_data_dir+'inc_112.csv')"
   ]
  }
 ],
 "metadata": {
  "kernelspec": {
   "display_name": "kernel_bigdata",
   "language": "python",
   "name": "kernel_bigdata"
  },
  "language_info": {
   "codemirror_mode": {
    "name": "ipython",
    "version": 3
   },
   "file_extension": ".py",
   "mimetype": "text/x-python",
   "name": "python",
   "nbconvert_exporter": "python",
   "pygments_lexer": "ipython3",
   "version": "3.9.13"
  }
 },
 "nbformat": 4,
 "nbformat_minor": 5
}
