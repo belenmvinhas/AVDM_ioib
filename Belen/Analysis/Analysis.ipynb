{
 "cells": [
  {
   "cell_type": "markdown",
   "id": "fbccb23e",
   "metadata": {},
   "source": [
    "## Correlations between fire incidents and meteorological data"
   ]
  },
  {
   "cell_type": "markdown",
   "id": "c5138201",
   "metadata": {},
   "source": [
    "<u>**Index:**</u>\n",
    "1. [Cleaning the data](#1)\n",
    "2. [Studying the possible correlation of the Fire Incidents at Alt Emporda with the Pluvimetrics and the Temperature ](#2)\n",
    "\n",
    "    2.1. [Pluvimetrics](#2.1)\n",
    "    \n",
    "    2.3. [Temperature](#2.2)\n",
    "    \n",
    "    2.4.[Studying the significance of the correlations](#2.3)\n",
    "    \n",
    "       \n",
    "3. [Studying the variability of incidents between seasons](#3) \n"
   ]
  },
  {
   "cell_type": "code",
   "execution_count": 1,
   "id": "0fbd0c50",
   "metadata": {},
   "outputs": [],
   "source": [
    "import numpy as np\n",
    "import pandas as pd\n",
    "import matplotlib.pyplot as plt\n",
    "import seaborn as sns"
   ]
  },
  {
   "cell_type": "markdown",
   "id": "5e70d621",
   "metadata": {},
   "source": [
    "## Arranging the data <a class=\"anchor\" id=\"1\"></a>"
   ]
  },
  {
   "cell_type": "code",
   "execution_count": 2,
   "id": "eee46ccc",
   "metadata": {},
   "outputs": [
    {
     "ename": "FileNotFoundError",
     "evalue": "[Errno 2] No such file or directory: '/Users/belenmontenegro/Documents/Master/AVDM/AVDM_ioib/dades/Dades_d_incidents_operatius_gestionats_pel_CAT112_20231110.csv'",
     "output_type": "error",
     "traceback": [
      "\u001b[0;31m---------------------------------------------------------------------------\u001b[0m",
      "\u001b[0;31mFileNotFoundError\u001b[0m                         Traceback (most recent call last)",
      "Cell \u001b[0;32mIn[2], line 3\u001b[0m\n\u001b[1;32m      1\u001b[0m data_dir\u001b[38;5;241m=\u001b[39m\u001b[38;5;124m'\u001b[39m\u001b[38;5;124m/Users/belenmontenegro/Documents/Master/AVDM/AVDM_ioib/dades/\u001b[39m\u001b[38;5;124m'\u001b[39m\n\u001b[0;32m----> 3\u001b[0m data_csv \u001b[38;5;241m=\u001b[39m \u001b[43mpd\u001b[49m\u001b[38;5;241;43m.\u001b[39;49m\u001b[43mread_csv\u001b[49m\u001b[43m(\u001b[49m\u001b[43mdata_dir\u001b[49m\u001b[43m \u001b[49m\u001b[38;5;241;43m+\u001b[39;49m\u001b[43m \u001b[49m\u001b[38;5;124;43m\"\u001b[39;49m\u001b[38;5;124;43mDades_d_incidents_operatius_gestionats_pel_CAT112_20231110.csv\u001b[39;49m\u001b[38;5;124;43m\"\u001b[39;49m\u001b[43m)\u001b[49m\n",
      "File \u001b[0;32m~/opt/anaconda3/envs/AVDM_new/lib/python3.9/site-packages/pandas/io/parsers/readers.py:948\u001b[0m, in \u001b[0;36mread_csv\u001b[0;34m(filepath_or_buffer, sep, delimiter, header, names, index_col, usecols, dtype, engine, converters, true_values, false_values, skipinitialspace, skiprows, skipfooter, nrows, na_values, keep_default_na, na_filter, verbose, skip_blank_lines, parse_dates, infer_datetime_format, keep_date_col, date_parser, date_format, dayfirst, cache_dates, iterator, chunksize, compression, thousands, decimal, lineterminator, quotechar, quoting, doublequote, escapechar, comment, encoding, encoding_errors, dialect, on_bad_lines, delim_whitespace, low_memory, memory_map, float_precision, storage_options, dtype_backend)\u001b[0m\n\u001b[1;32m    935\u001b[0m kwds_defaults \u001b[38;5;241m=\u001b[39m _refine_defaults_read(\n\u001b[1;32m    936\u001b[0m     dialect,\n\u001b[1;32m    937\u001b[0m     delimiter,\n\u001b[0;32m   (...)\u001b[0m\n\u001b[1;32m    944\u001b[0m     dtype_backend\u001b[38;5;241m=\u001b[39mdtype_backend,\n\u001b[1;32m    945\u001b[0m )\n\u001b[1;32m    946\u001b[0m kwds\u001b[38;5;241m.\u001b[39mupdate(kwds_defaults)\n\u001b[0;32m--> 948\u001b[0m \u001b[38;5;28;01mreturn\u001b[39;00m \u001b[43m_read\u001b[49m\u001b[43m(\u001b[49m\u001b[43mfilepath_or_buffer\u001b[49m\u001b[43m,\u001b[49m\u001b[43m \u001b[49m\u001b[43mkwds\u001b[49m\u001b[43m)\u001b[49m\n",
      "File \u001b[0;32m~/opt/anaconda3/envs/AVDM_new/lib/python3.9/site-packages/pandas/io/parsers/readers.py:611\u001b[0m, in \u001b[0;36m_read\u001b[0;34m(filepath_or_buffer, kwds)\u001b[0m\n\u001b[1;32m    608\u001b[0m _validate_names(kwds\u001b[38;5;241m.\u001b[39mget(\u001b[38;5;124m\"\u001b[39m\u001b[38;5;124mnames\u001b[39m\u001b[38;5;124m\"\u001b[39m, \u001b[38;5;28;01mNone\u001b[39;00m))\n\u001b[1;32m    610\u001b[0m \u001b[38;5;66;03m# Create the parser.\u001b[39;00m\n\u001b[0;32m--> 611\u001b[0m parser \u001b[38;5;241m=\u001b[39m \u001b[43mTextFileReader\u001b[49m\u001b[43m(\u001b[49m\u001b[43mfilepath_or_buffer\u001b[49m\u001b[43m,\u001b[49m\u001b[43m \u001b[49m\u001b[38;5;241;43m*\u001b[39;49m\u001b[38;5;241;43m*\u001b[39;49m\u001b[43mkwds\u001b[49m\u001b[43m)\u001b[49m\n\u001b[1;32m    613\u001b[0m \u001b[38;5;28;01mif\u001b[39;00m chunksize \u001b[38;5;129;01mor\u001b[39;00m iterator:\n\u001b[1;32m    614\u001b[0m     \u001b[38;5;28;01mreturn\u001b[39;00m parser\n",
      "File \u001b[0;32m~/opt/anaconda3/envs/AVDM_new/lib/python3.9/site-packages/pandas/io/parsers/readers.py:1448\u001b[0m, in \u001b[0;36mTextFileReader.__init__\u001b[0;34m(self, f, engine, **kwds)\u001b[0m\n\u001b[1;32m   1445\u001b[0m     \u001b[38;5;28mself\u001b[39m\u001b[38;5;241m.\u001b[39moptions[\u001b[38;5;124m\"\u001b[39m\u001b[38;5;124mhas_index_names\u001b[39m\u001b[38;5;124m\"\u001b[39m] \u001b[38;5;241m=\u001b[39m kwds[\u001b[38;5;124m\"\u001b[39m\u001b[38;5;124mhas_index_names\u001b[39m\u001b[38;5;124m\"\u001b[39m]\n\u001b[1;32m   1447\u001b[0m \u001b[38;5;28mself\u001b[39m\u001b[38;5;241m.\u001b[39mhandles: IOHandles \u001b[38;5;241m|\u001b[39m \u001b[38;5;28;01mNone\u001b[39;00m \u001b[38;5;241m=\u001b[39m \u001b[38;5;28;01mNone\u001b[39;00m\n\u001b[0;32m-> 1448\u001b[0m \u001b[38;5;28mself\u001b[39m\u001b[38;5;241m.\u001b[39m_engine \u001b[38;5;241m=\u001b[39m \u001b[38;5;28;43mself\u001b[39;49m\u001b[38;5;241;43m.\u001b[39;49m\u001b[43m_make_engine\u001b[49m\u001b[43m(\u001b[49m\u001b[43mf\u001b[49m\u001b[43m,\u001b[49m\u001b[43m \u001b[49m\u001b[38;5;28;43mself\u001b[39;49m\u001b[38;5;241;43m.\u001b[39;49m\u001b[43mengine\u001b[49m\u001b[43m)\u001b[49m\n",
      "File \u001b[0;32m~/opt/anaconda3/envs/AVDM_new/lib/python3.9/site-packages/pandas/io/parsers/readers.py:1705\u001b[0m, in \u001b[0;36mTextFileReader._make_engine\u001b[0;34m(self, f, engine)\u001b[0m\n\u001b[1;32m   1703\u001b[0m     \u001b[38;5;28;01mif\u001b[39;00m \u001b[38;5;124m\"\u001b[39m\u001b[38;5;124mb\u001b[39m\u001b[38;5;124m\"\u001b[39m \u001b[38;5;129;01mnot\u001b[39;00m \u001b[38;5;129;01min\u001b[39;00m mode:\n\u001b[1;32m   1704\u001b[0m         mode \u001b[38;5;241m+\u001b[39m\u001b[38;5;241m=\u001b[39m \u001b[38;5;124m\"\u001b[39m\u001b[38;5;124mb\u001b[39m\u001b[38;5;124m\"\u001b[39m\n\u001b[0;32m-> 1705\u001b[0m \u001b[38;5;28mself\u001b[39m\u001b[38;5;241m.\u001b[39mhandles \u001b[38;5;241m=\u001b[39m \u001b[43mget_handle\u001b[49m\u001b[43m(\u001b[49m\n\u001b[1;32m   1706\u001b[0m \u001b[43m    \u001b[49m\u001b[43mf\u001b[49m\u001b[43m,\u001b[49m\n\u001b[1;32m   1707\u001b[0m \u001b[43m    \u001b[49m\u001b[43mmode\u001b[49m\u001b[43m,\u001b[49m\n\u001b[1;32m   1708\u001b[0m \u001b[43m    \u001b[49m\u001b[43mencoding\u001b[49m\u001b[38;5;241;43m=\u001b[39;49m\u001b[38;5;28;43mself\u001b[39;49m\u001b[38;5;241;43m.\u001b[39;49m\u001b[43moptions\u001b[49m\u001b[38;5;241;43m.\u001b[39;49m\u001b[43mget\u001b[49m\u001b[43m(\u001b[49m\u001b[38;5;124;43m\"\u001b[39;49m\u001b[38;5;124;43mencoding\u001b[39;49m\u001b[38;5;124;43m\"\u001b[39;49m\u001b[43m,\u001b[49m\u001b[43m \u001b[49m\u001b[38;5;28;43;01mNone\u001b[39;49;00m\u001b[43m)\u001b[49m\u001b[43m,\u001b[49m\n\u001b[1;32m   1709\u001b[0m \u001b[43m    \u001b[49m\u001b[43mcompression\u001b[49m\u001b[38;5;241;43m=\u001b[39;49m\u001b[38;5;28;43mself\u001b[39;49m\u001b[38;5;241;43m.\u001b[39;49m\u001b[43moptions\u001b[49m\u001b[38;5;241;43m.\u001b[39;49m\u001b[43mget\u001b[49m\u001b[43m(\u001b[49m\u001b[38;5;124;43m\"\u001b[39;49m\u001b[38;5;124;43mcompression\u001b[39;49m\u001b[38;5;124;43m\"\u001b[39;49m\u001b[43m,\u001b[49m\u001b[43m \u001b[49m\u001b[38;5;28;43;01mNone\u001b[39;49;00m\u001b[43m)\u001b[49m\u001b[43m,\u001b[49m\n\u001b[1;32m   1710\u001b[0m \u001b[43m    \u001b[49m\u001b[43mmemory_map\u001b[49m\u001b[38;5;241;43m=\u001b[39;49m\u001b[38;5;28;43mself\u001b[39;49m\u001b[38;5;241;43m.\u001b[39;49m\u001b[43moptions\u001b[49m\u001b[38;5;241;43m.\u001b[39;49m\u001b[43mget\u001b[49m\u001b[43m(\u001b[49m\u001b[38;5;124;43m\"\u001b[39;49m\u001b[38;5;124;43mmemory_map\u001b[39;49m\u001b[38;5;124;43m\"\u001b[39;49m\u001b[43m,\u001b[49m\u001b[43m \u001b[49m\u001b[38;5;28;43;01mFalse\u001b[39;49;00m\u001b[43m)\u001b[49m\u001b[43m,\u001b[49m\n\u001b[1;32m   1711\u001b[0m \u001b[43m    \u001b[49m\u001b[43mis_text\u001b[49m\u001b[38;5;241;43m=\u001b[39;49m\u001b[43mis_text\u001b[49m\u001b[43m,\u001b[49m\n\u001b[1;32m   1712\u001b[0m \u001b[43m    \u001b[49m\u001b[43merrors\u001b[49m\u001b[38;5;241;43m=\u001b[39;49m\u001b[38;5;28;43mself\u001b[39;49m\u001b[38;5;241;43m.\u001b[39;49m\u001b[43moptions\u001b[49m\u001b[38;5;241;43m.\u001b[39;49m\u001b[43mget\u001b[49m\u001b[43m(\u001b[49m\u001b[38;5;124;43m\"\u001b[39;49m\u001b[38;5;124;43mencoding_errors\u001b[39;49m\u001b[38;5;124;43m\"\u001b[39;49m\u001b[43m,\u001b[49m\u001b[43m \u001b[49m\u001b[38;5;124;43m\"\u001b[39;49m\u001b[38;5;124;43mstrict\u001b[39;49m\u001b[38;5;124;43m\"\u001b[39;49m\u001b[43m)\u001b[49m\u001b[43m,\u001b[49m\n\u001b[1;32m   1713\u001b[0m \u001b[43m    \u001b[49m\u001b[43mstorage_options\u001b[49m\u001b[38;5;241;43m=\u001b[39;49m\u001b[38;5;28;43mself\u001b[39;49m\u001b[38;5;241;43m.\u001b[39;49m\u001b[43moptions\u001b[49m\u001b[38;5;241;43m.\u001b[39;49m\u001b[43mget\u001b[49m\u001b[43m(\u001b[49m\u001b[38;5;124;43m\"\u001b[39;49m\u001b[38;5;124;43mstorage_options\u001b[39;49m\u001b[38;5;124;43m\"\u001b[39;49m\u001b[43m,\u001b[49m\u001b[43m \u001b[49m\u001b[38;5;28;43;01mNone\u001b[39;49;00m\u001b[43m)\u001b[49m\u001b[43m,\u001b[49m\n\u001b[1;32m   1714\u001b[0m \u001b[43m\u001b[49m\u001b[43m)\u001b[49m\n\u001b[1;32m   1715\u001b[0m \u001b[38;5;28;01massert\u001b[39;00m \u001b[38;5;28mself\u001b[39m\u001b[38;5;241m.\u001b[39mhandles \u001b[38;5;129;01mis\u001b[39;00m \u001b[38;5;129;01mnot\u001b[39;00m \u001b[38;5;28;01mNone\u001b[39;00m\n\u001b[1;32m   1716\u001b[0m f \u001b[38;5;241m=\u001b[39m \u001b[38;5;28mself\u001b[39m\u001b[38;5;241m.\u001b[39mhandles\u001b[38;5;241m.\u001b[39mhandle\n",
      "File \u001b[0;32m~/opt/anaconda3/envs/AVDM_new/lib/python3.9/site-packages/pandas/io/common.py:863\u001b[0m, in \u001b[0;36mget_handle\u001b[0;34m(path_or_buf, mode, encoding, compression, memory_map, is_text, errors, storage_options)\u001b[0m\n\u001b[1;32m    858\u001b[0m \u001b[38;5;28;01melif\u001b[39;00m \u001b[38;5;28misinstance\u001b[39m(handle, \u001b[38;5;28mstr\u001b[39m):\n\u001b[1;32m    859\u001b[0m     \u001b[38;5;66;03m# Check whether the filename is to be opened in binary mode.\u001b[39;00m\n\u001b[1;32m    860\u001b[0m     \u001b[38;5;66;03m# Binary mode does not support 'encoding' and 'newline'.\u001b[39;00m\n\u001b[1;32m    861\u001b[0m     \u001b[38;5;28;01mif\u001b[39;00m ioargs\u001b[38;5;241m.\u001b[39mencoding \u001b[38;5;129;01mand\u001b[39;00m \u001b[38;5;124m\"\u001b[39m\u001b[38;5;124mb\u001b[39m\u001b[38;5;124m\"\u001b[39m \u001b[38;5;129;01mnot\u001b[39;00m \u001b[38;5;129;01min\u001b[39;00m ioargs\u001b[38;5;241m.\u001b[39mmode:\n\u001b[1;32m    862\u001b[0m         \u001b[38;5;66;03m# Encoding\u001b[39;00m\n\u001b[0;32m--> 863\u001b[0m         handle \u001b[38;5;241m=\u001b[39m \u001b[38;5;28;43mopen\u001b[39;49m\u001b[43m(\u001b[49m\n\u001b[1;32m    864\u001b[0m \u001b[43m            \u001b[49m\u001b[43mhandle\u001b[49m\u001b[43m,\u001b[49m\n\u001b[1;32m    865\u001b[0m \u001b[43m            \u001b[49m\u001b[43mioargs\u001b[49m\u001b[38;5;241;43m.\u001b[39;49m\u001b[43mmode\u001b[49m\u001b[43m,\u001b[49m\n\u001b[1;32m    866\u001b[0m \u001b[43m            \u001b[49m\u001b[43mencoding\u001b[49m\u001b[38;5;241;43m=\u001b[39;49m\u001b[43mioargs\u001b[49m\u001b[38;5;241;43m.\u001b[39;49m\u001b[43mencoding\u001b[49m\u001b[43m,\u001b[49m\n\u001b[1;32m    867\u001b[0m \u001b[43m            \u001b[49m\u001b[43merrors\u001b[49m\u001b[38;5;241;43m=\u001b[39;49m\u001b[43merrors\u001b[49m\u001b[43m,\u001b[49m\n\u001b[1;32m    868\u001b[0m \u001b[43m            \u001b[49m\u001b[43mnewline\u001b[49m\u001b[38;5;241;43m=\u001b[39;49m\u001b[38;5;124;43m\"\u001b[39;49m\u001b[38;5;124;43m\"\u001b[39;49m\u001b[43m,\u001b[49m\n\u001b[1;32m    869\u001b[0m \u001b[43m        \u001b[49m\u001b[43m)\u001b[49m\n\u001b[1;32m    870\u001b[0m     \u001b[38;5;28;01melse\u001b[39;00m:\n\u001b[1;32m    871\u001b[0m         \u001b[38;5;66;03m# Binary mode\u001b[39;00m\n\u001b[1;32m    872\u001b[0m         handle \u001b[38;5;241m=\u001b[39m \u001b[38;5;28mopen\u001b[39m(handle, ioargs\u001b[38;5;241m.\u001b[39mmode)\n",
      "\u001b[0;31mFileNotFoundError\u001b[0m: [Errno 2] No such file or directory: '/Users/belenmontenegro/Documents/Master/AVDM/AVDM_ioib/dades/Dades_d_incidents_operatius_gestionats_pel_CAT112_20231110.csv'"
     ]
    }
   ],
   "source": [
    "data_dir='/Users/belenmontenegro/Documents/Master/AVDM/AVDM_ioib/dades/'\n",
    "\n",
    "data_csv = pd.read_csv(data_dir + \"Dades_d_incidents_operatius_gestionats_pel_CAT112_20231110.csv\")\n"
   ]
  },
  {
   "cell_type": "code",
   "execution_count": null,
   "id": "2d69e511",
   "metadata": {},
   "outputs": [],
   "source": [
    "data_csv.pop(\"PROVINCIA\")\n",
    "data_csv.pop(\"MUNICIPI\")"
   ]
  },
  {
   "cell_type": "code",
   "execution_count": null,
   "id": "1874819e",
   "metadata": {},
   "outputs": [],
   "source": [
    "data_csv=data_csv[(data_csv[\"ANY\"] <= 2022) & (data_csv[\"ANY\"] >= 2018)]"
   ]
  },
  {
   "cell_type": "code",
   "execution_count": null,
   "id": "bb10743f",
   "metadata": {},
   "outputs": [],
   "source": [
    "data_csv=data_csv.sort_index(axis=0, ascending=False)\n"
   ]
  },
  {
   "cell_type": "code",
   "execution_count": null,
   "id": "a1989a66",
   "metadata": {},
   "outputs": [],
   "source": [
    "data_csv['TIPUS'].unique()"
   ]
  },
  {
   "cell_type": "code",
   "execution_count": null,
   "id": "f0044537",
   "metadata": {},
   "outputs": [],
   "source": [
    "delete_values = ['Trànsit', 'Seguretat', 'Altres incidències','Medi ambient','Fuita (aigua, gas, altres)','Civisme']\n",
    "\n",
    "data_csv=data_csv[~data_csv['TIPUS'].isin(delete_values)]"
   ]
  },
  {
   "cell_type": "code",
   "execution_count": null,
   "id": "65928d25",
   "metadata": {},
   "outputs": [],
   "source": [
    "data_csv['DATE'] = pd.to_datetime(data_csv['ANY'].astype(str) + '-' + data_csv['MES'].astype(str),format='%Y-%m')"
   ]
  },
  {
   "cell_type": "markdown",
   "id": "c6799988",
   "metadata": {},
   "source": [
    "## Studying the possible correlation of the Fire Incidents at Alt Emporda with the Pluvimetrics and the Temperature <a class=\"anchor\" id=\"2\"></a>"
   ]
  },
  {
   "cell_type": "markdown",
   "id": "5893517e",
   "metadata": {},
   "source": [
    "### Pluvimetrics <a class=\"anchor\" id=\"2.1\"></a>"
   ]
  },
  {
   "cell_type": "code",
   "execution_count": null,
   "id": "d0ef6f73",
   "metadata": {},
   "outputs": [],
   "source": [
    "Incendios=data_csv[data_csv['TIPUS']=='Incendi']\n",
    "\n",
    "Inc_Alt=Incendios[Incendios['COMARCA']=='ALT EMPORDA']\n",
    "\n",
    "Inc_Alt=pd.DataFrame(Inc_Alt.groupby([\"DATE\"])['INCIDENTS'].sum())\n",
    "Inc_Alt=Inc_Alt.reset_index()\n",
    "\n",
    "pluvi_Alt=pd.read_csv('/Users/belenmontenegro/Documents/Master/AVDM/AVDM_ioib/dades/Clime_data/pluvi_AltEmporda.csv',delimiter=';')\n",
    "pluvi_Alt['DATE']=pd.to_datetime(pluvi_Alt['DATE'],format='%Y-%m')\n",
    "\n",
    "df_corr=pd.merge(Inc_Alt, pluvi_Alt, on='DATE')\n",
    "\n",
    "df_corr = df_corr.rename(columns={'INCIDENTS': 'Fire Incidents'})\n",
    "df_corr = df_corr.rename(columns={'Pluvi': 'Pluvi (mm)'})\n",
    "\n",
    "\n",
    "df_corr['Pluvi (mm) (lag=1 month)'] = df_corr['Pluvi (mm)'].shift(1)\n",
    "df_corr['Pluvi (mm) (lag=2 month)'] = df_corr['Pluvi (mm)'].shift(2)\n",
    "df_corr['Pluvi (mm) (lag=3 month)'] = df_corr['Pluvi (mm)'].shift(3)\n",
    "df_corr['Pluvi (mm) (lag=4 month)'] = df_corr['Pluvi (mm)'].shift(4)\n",
    "df_corr['Pluvi (mm) (lag=5 month)'] = df_corr['Pluvi (mm)'].shift(5)\n",
    "\n",
    "\n",
    "df_corr = df_corr.drop(range(5))\n",
    "\n"
   ]
  },
  {
   "cell_type": "code",
   "execution_count": null,
   "id": "bdd4731f",
   "metadata": {},
   "outputs": [],
   "source": [
    "from scipy.stats import pearsonr\n",
    "fig, ((ax1, ax2, ax3), (ax4, ax5, ax6)) = plt.subplots(2, 3, figsize=(12, 10))\n",
    "\n",
    "palette = sns.color_palette(\"Set2\")\n",
    "\n",
    "size=14\n",
    "\n",
    "# Función para agregar la leyenda con el coeficiente de correlación\n",
    "def add_correlation_legend(x, y, ax):\n",
    "    # Calcular el coeficiente de correlación\n",
    "    corr_coef, _ = pearsonr(x, y)\n",
    "    \n",
    "    # Agregar la leyenda con el coeficiente de correlación\n",
    "    legend_label = f'Corr: {corr_coef:.2f}'\n",
    "    ax.legend([legend_label],fontsize=14)\n",
    "\n",
    "# Utilizar la función regplot y agregar la leyenda con el coeficiente de correlación\n",
    "sns.regplot(x=\"Pluvi (mm)\", y=\"Fire Incidents\", data=df_corr, ax=ax1, color=palette[0])\n",
    "ax1.set_xlabel(\"Pluvi (mm)\",fontsize=size)\n",
    "ax1.set_ylabel(\"Fire Incidents\",fontsize=size)\n",
    "add_correlation_legend(df_corr[\"Pluvi (mm)\"], df_corr[\"Fire Incidents\"], ax1)\n",
    "\n",
    "sns.regplot(x=\"Pluvi (mm) (lag=1 month)\", y=\"Fire Incidents\", data=df_corr, ax=ax2, color=palette[1])\n",
    "ax2.set_xlabel(\"Pluvi (mm) (lag=1 month)\",fontsize=size)\n",
    "ax2.set_ylabel(\"Fire Incidents\",fontsize=size)\n",
    "add_correlation_legend(df_corr[\"Pluvi (mm) (lag=1 month)\"], df_corr[\"Fire Incidents\"], ax2)\n",
    "\n",
    "sns.regplot(x=\"Pluvi (mm) (lag=2 month)\", y=\"Fire Incidents\", data=df_corr, ax=ax3, color=palette[2])\n",
    "ax3.set_xlabel(\"Pluvi (mm) (lag=2 month)\",fontsize=size)\n",
    "ax3.set_ylabel(\"Fire Incidents\",fontsize=size)\n",
    "add_correlation_legend(df_corr[\"Pluvi (mm) (lag=2 month)\"], df_corr[\"Fire Incidents\"], ax3)\n",
    "\n",
    "sns.regplot(x=\"Pluvi (mm) (lag=3 month)\", y=\"Fire Incidents\", data=df_corr, ax=ax4, color=palette[3])\n",
    "ax4.set_xlabel(\"Pluvi (mm) (lag=3 month)\",fontsize=size)\n",
    "ax4.set_ylabel(\"Fire Incidents\",fontsize=size)\n",
    "add_correlation_legend(df_corr[\"Pluvi (mm) (lag=3 month)\"], df_corr[\"Fire Incidents\"], ax4)\n",
    "\n",
    "sns.regplot(x=\"Pluvi (mm) (lag=4 month)\", y=\"Fire Incidents\", data=df_corr, ax=ax5, color=palette[4])\n",
    "ax5.set_xlabel(\"Pluvi (mm) (lag=4 month)\",fontsize=size)\n",
    "ax5.set_ylabel(\"Fire Incidents\",fontsize=size)\n",
    "add_correlation_legend(df_corr[\"Pluvi (mm) (lag=4 month)\"], df_corr[\"Fire Incidents\"], ax5)\n",
    "\n",
    "sns.regplot(x=\"Pluvi (mm) (lag=5 month)\", y=\"Fire Incidents\", data=df_corr, ax=ax6, color=palette[5])\n",
    "ax6.set_xlabel(\"Pluvi (mm) (lag=5 month)\",fontsize=size)\n",
    "ax6.set_ylabel(\"Fire Incidents\",fontsize=size)\n",
    "add_correlation_legend(df_corr[\"Pluvi (mm) (lag=5 month)\"], df_corr[\"Fire Incidents\"], ax6)\n",
    "\n",
    "# Show the plots\n",
    "#plt.suptitle('Correlation of the fire Incidents with pluvimetrics', fontsize=16)\n",
    "plt.tight_layout()\n",
    "plt.savefig('/Users/belenmontenegro/Documents/Master/AVDM/AVDM_ioib/Belen/Analysis/Correlations_pluvi.pdf')\n",
    "plt.show()"
   ]
  },
  {
   "cell_type": "code",
   "execution_count": null,
   "id": "6ee0aa2e",
   "metadata": {},
   "outputs": [],
   "source": [
    "df_corr_pluvi=df_corr.copy()"
   ]
  },
  {
   "cell_type": "markdown",
   "id": "422d0203",
   "metadata": {},
   "source": [
    "### Temperature <a class=\"anchor\" id=\"2.2\"></a>"
   ]
  },
  {
   "cell_type": "code",
   "execution_count": null,
   "id": "65afecd0",
   "metadata": {},
   "outputs": [],
   "source": [
    "Tmax_Alt=pd.read_csv('/Users/belenmontenegro/Documents/Master/AVDM/AVDM_ioib/dades/Clime_data/Tmax_AltEmporda.csv',delimiter=';')\n",
    "Tmax_Alt['DATE']=pd.to_datetime(Tmax_Alt['DATE'],format='%Y-%m')\n",
    "Tmin_Alt=pd.read_csv('/Users/belenmontenegro/Documents/Master/AVDM/AVDM_ioib/dades/Clime_data/Tmin_AltEmporda.csv',delimiter=';')\n",
    "Tmin_Alt['DATE']=pd.to_datetime(Tmin_Alt['DATE'],format='%Y-%m')\n",
    "Tmean=pd.merge(Tmax_Alt, Tmin_Alt, on='DATE')\n",
    "\n",
    "Tmean['T'] = Tmean[['Temp', 'Temp2']].mean(axis=1)\n",
    "Tmean = Tmean.drop(['Temp', 'Temp2'], axis=1)\n",
    "\n",
    "df_corr=pd.merge(Inc_Alt, Tmean, on='DATE')\n",
    "\n",
    "df_corr = df_corr.rename(columns={'INCIDENTS': 'Fire Incidents'})\n",
    "df_corr = df_corr.rename(columns={'T': 'T (\\u2103)'})\n",
    "\n",
    "df_corr['T (\\u2103) (lag=1 month)'] = df_corr['T (\\u2103)'].shift(1)\n",
    "df_corr['T (\\u2103) (lag=2 month)'] = df_corr['T (\\u2103)'].shift(2)\n",
    "df_corr['T (\\u2103) (lag=3 month)'] = df_corr['T (\\u2103)'].shift(3)\n",
    "df_corr['T (\\u2103) (lag=4 month)'] = df_corr['T (\\u2103)'].shift(4)\n",
    "df_corr['T (\\u2103) (lag=5 month)'] = df_corr['T (\\u2103)'].shift(5)\n",
    "\n",
    "\n",
    "df_corr = df_corr.drop(range(5))\n",
    "\n",
    "df_corr = df_corr.reset_index(drop=True)"
   ]
  },
  {
   "cell_type": "code",
   "execution_count": null,
   "id": "4d3cba6a",
   "metadata": {},
   "outputs": [],
   "source": [
    "from scipy.stats import pearsonr\n",
    "fig, ((ax1, ax2, ax3), (ax4, ax5, ax6)) = plt.subplots(2, 3, figsize=(12, 10))\n",
    "\n",
    "palette = sns.color_palette(\"Set2\")\n",
    "\n",
    "size=14\n",
    "\n",
    "# Función para agregar la leyenda con el coeficiente de correlación\n",
    "def add_correlation_legend(x, y, ax,location):\n",
    "    # Calcular el coeficiente de correlación\n",
    "    corr_coef, _ = pearsonr(x, y)\n",
    "    \n",
    "    # Agregar la leyenda con el coeficiente de correlación\n",
    "    legend_label = f'Corr: {corr_coef:.2f}'\n",
    "    ax.legend([legend_label],fontsize=14,loc=location)\n",
    "\n",
    "# Utilizar la función regplot y agregar la leyenda con el coeficiente de correlación\n",
    "sns.regplot(x=\"T (\\u2103)\", y=\"Fire Incidents\", data=df_corr, ax=ax1, color=palette[0])\n",
    "ax1.set_xlabel(\"T (\\u2103)\",fontsize=size)\n",
    "ax1.set_ylabel(\"Fire Incidents\",fontsize=size)\n",
    "add_correlation_legend(df_corr[\"T (\\u2103)\"], df_corr[\"Fire Incidents\"], ax1,'upper left')\n",
    "\n",
    "sns.regplot(x=\"T (\\u2103) (lag=1 month)\", y=\"Fire Incidents\", data=df_corr, ax=ax2, color=palette[1])\n",
    "ax2.set_xlabel(\"T (\\u2103) (lag=1 month)\",fontsize=size)\n",
    "ax2.set_ylabel(\"Fire Incidents\",fontsize=size)\n",
    "add_correlation_legend(df_corr[\"T (\\u2103) (lag=1 month)\"], df_corr[\"Fire Incidents\"], ax2,'upper left')\n",
    "\n",
    "sns.regplot(x=\"T (\\u2103) (lag=2 month)\", y=\"Fire Incidents\", data=df_corr, ax=ax3, color=palette[2])\n",
    "ax3.set_xlabel(\"T (\\u2103) (lag=2 month)\",fontsize=size)\n",
    "ax3.set_ylabel(\"Fire Incidents\",fontsize=size)\n",
    "add_correlation_legend(df_corr[\"T (\\u2103) (lag=2 month)\"], df_corr[\"Fire Incidents\"], ax3,'upper left')\n",
    "\n",
    "sns.regplot(x=\"T (\\u2103) (lag=3 month)\", y=\"Fire Incidents\", data=df_corr, ax=ax4, color=palette[3])\n",
    "ax4.set_xlabel(\"T (\\u2103) (lag=3 month)\",fontsize=size)\n",
    "ax4.set_ylabel(\"Fire Incidents\",fontsize=size)\n",
    "add_correlation_legend(df_corr[\"T (\\u2103) (lag=3 month)\"], df_corr[\"Fire Incidents\"], ax4,'upper right')\n",
    "\n",
    "sns.regplot(x=\"T (\\u2103) (lag=4 month)\", y=\"Fire Incidents\", data=df_corr, ax=ax5, color=palette[4])\n",
    "ax5.set_xlabel(\"T (\\u2103) (lag=4 month)\",fontsize=size)\n",
    "ax5.set_ylabel(\"Fire Incidents\",fontsize=size)\n",
    "add_correlation_legend(df_corr[\"T (\\u2103) (lag=4 month)\"], df_corr[\"Fire Incidents\"], ax5,'upper right')\n",
    "\n",
    "sns.regplot(x=\"T (\\u2103) (lag=5 month)\", y=\"Fire Incidents\", data=df_corr, ax=ax6, color=palette[5])\n",
    "ax6.set_xlabel(\"T (\\u2103) (lag=5 month)\",fontsize=size)\n",
    "ax6.set_ylabel(\"Fire Incidents\",fontsize=size)\n",
    "add_correlation_legend(df_corr[\"T (\\u2103) (lag=5 month)\"], df_corr[\"Fire Incidents\"], ax6,'upper right')\n",
    "\n",
    "# Show the plots\n",
    "#plt.suptitle('Correlation of the fire Incidents with the mean Temperatures', fontsize=16)\n",
    "plt.tight_layout()\n",
    "plt.savefig('/Users/belenmontenegro/Documents/Master/AVDM/AVDM_ioib/Belen/Analysis/Correlations_temp.pdf')\n",
    "plt.show()"
   ]
  },
  {
   "cell_type": "markdown",
   "id": "c6ffada5",
   "metadata": {},
   "source": [
    "### Studying the significance of the correlations <a class=\"anchor\" id=\"2.3\"></a>"
   ]
  },
  {
   "cell_type": "code",
   "execution_count": null,
   "id": "61c773fc",
   "metadata": {},
   "outputs": [],
   "source": [
    "df_corr_temp=df_corr.copy()\n",
    "\n",
    "corr_random_temp=[]\n",
    "corr_random_pluvi=[]\n",
    "\n",
    "for i in range(1000):  \n",
    "    values_temp=df_corr_temp['T (\\u2103)'].tolist()\n",
    "    np.random.shuffle(values_temp)\n",
    "    values_pluvi=df_corr_pluvi['Pluvi (mm)'].tolist()\n",
    "    np.random.shuffle(values_pluvi)\n",
    "    y=df_corr_temp[\"Fire Incidents\"].tolist()\n",
    "    corr_coef, _ = pearsonr(values_temp, y)\n",
    "    corr_random_temp.append(corr_coef)\n",
    "    y=df_corr_pluvi[\"Fire Incidents\"].tolist()\n",
    "    corr_coef, _ = pearsonr(values_pluvi, y)\n",
    "    corr_random_pluvi.append(corr_coef)\n",
    "\n"
   ]
  },
  {
   "cell_type": "code",
   "execution_count": null,
   "id": "c97df329",
   "metadata": {},
   "outputs": [],
   "source": [
    "2*np.std(np.array(corr_random_temp))"
   ]
  },
  {
   "cell_type": "code",
   "execution_count": null,
   "id": "23fafaf7",
   "metadata": {},
   "outputs": [],
   "source": [
    "def gaussian(x, mu, sigma):\n",
    "    return (1.0 / (sigma * np.sqrt(2 * np.pi))) * np.exp(-0.5 * ((x - mu) / sigma)**2)\n",
    "\n",
    "from scipy.stats import norm"
   ]
  },
  {
   "cell_type": "code",
   "execution_count": null,
   "id": "37a7f762",
   "metadata": {},
   "outputs": [],
   "source": [
    "sigma_p=np.std(np.array(corr_random_pluvi)) ; mu_p=np.mean(np.array(corr_random_pluvi)) \n",
    "sigma_t=np.std(np.array(corr_random_temp)) ; mu_t=np.mean(np.array(corr_random_temp)) \n",
    "x=np.linspace(-0.4,0.4,100) ; y_p=gaussian(x,mu_p,sigma_p) ; y_t=gaussian(x,mu_t,sigma_t)\n",
    "\n",
    "plt.figure(figsize=(12,8),dpi=180)\n",
    "\n",
    "size=15\n",
    "\n",
    "plt.subplot(1,2,1)\n",
    "plt.hist(corr_random_pluvi,bins=20,density=True,fill=False,histtype='step',edgecolor='black',label='Histogram')\n",
    "plt.plot(x,y_p,'b-',label='Gaussian')\n",
    "arrow_start = (mu_p - 2*sigma_p, norm.pdf(mu_p - 2*sigma_p, mu_p, sigma_p))\n",
    "arrow_end = (mu_p + 2*sigma_p, norm.pdf(mu_p + 2*sigma_p, mu_p, sigma_p))\n",
    "plt.annotate('', xy=arrow_end, xytext=arrow_start,\n",
    "             arrowprops={'arrowstyle':'<->', 'color':'blue'}, annotation_clip=False)\n",
    "\n",
    "midpoint = ((arrow_start[0] + arrow_end[0]) / 2, (arrow_start[1] + arrow_end[1]) / 2)\n",
    "\n",
    "plt.text(midpoint[0], midpoint[1] + 0.1, f'Confidence Interval (95 %)', \n",
    "         horizontalalignment='center', verticalalignment='center', color='blue',fontsize=13)\n",
    "\n",
    "plt.xlabel('Random correlation coefficients',fontsize=size)\n",
    "plt.ylabel('P',fontsize=size)\n",
    "plt.title('Fire Incidents with Pluvimetrics',fontsize=size)\n",
    "plt.legend(loc='upper right',fontsize=size)\n",
    "\n",
    "plt.subplot(1,2,2)\n",
    "plt.hist(corr_random_temp,bins=20,density=True,fill=False,histtype='step',edgecolor='black',label='Histogram')\n",
    "plt.plot(x,y_p,'r-',label='Gaussian')\n",
    "arrow_start = (mu_t - 2*sigma_t, norm.pdf(mu_t - 2*sigma_t, mu_t, sigma_t))\n",
    "arrow_end = (mu_t + 2*sigma_t, norm.pdf(mu_t + 2*sigma_t, mu_t, sigma_t))\n",
    "plt.annotate('', xy=arrow_end, xytext=arrow_start,\n",
    "             arrowprops={'arrowstyle':'<->', 'color':'red'}, annotation_clip=False)\n",
    "\n",
    "midpoint = ((arrow_start[0] + arrow_end[0]) / 2, (arrow_start[1] + arrow_end[1]) / 2)\n",
    "\n",
    "plt.text(midpoint[0], midpoint[1] + 0.1, f'Confidence Interval (95 %)', \n",
    "         horizontalalignment='center', verticalalignment='center', color='red',fontsize=13)\n",
    "\n",
    "plt.xlabel('Random correlation coefficients',fontsize=size)\n",
    "plt.ylabel('P',fontsize=size)\n",
    "plt.title('Fire Incidents with Temperature',fontsize=size)\n",
    "plt.legend(loc='upper right',fontsize=size)\n",
    "\n",
    "\n",
    "plt.tight_layout()\n",
    "\n",
    "\n",
    "plt.savefig('/Users/belenmontenegro/Documents/Master/AVDM/AVDM_ioib/Belen/Analysis/Significance_corr_temp.pdf')"
   ]
  },
  {
   "cell_type": "markdown",
   "id": "0905ca1b",
   "metadata": {},
   "source": [
    "## Studying the variability of incidents between seasons <a class=\"anchor\" id=\"3\"></a>"
   ]
  },
  {
   "cell_type": "code",
   "execution_count": null,
   "id": "c7d106cd",
   "metadata": {},
   "outputs": [],
   "source": [
    "\n",
    "data_autumn=data_csv[(data_csv[\"MES\"] <= 11) & (data_csv[\"MES\"] >= 9)]\n",
    "data_spring=data_csv[(data_csv[\"MES\"] <= 5) & (data_csv[\"MES\"] >= 3)]\n",
    "data_summer=data_csv[(data_csv[\"MES\"] <= 8) & (data_csv[\"MES\"] >= 6)]\n",
    "data_winter=data_csv[(data_csv[\"MES\"] <= 12) & (data_csv[\"MES\"] >= 2)]"
   ]
  },
  {
   "cell_type": "code",
   "execution_count": null,
   "id": "f02c3b56",
   "metadata": {},
   "outputs": [],
   "source": [
    "data_autumn=pd.DataFrame(data_autumn.groupby('TIPUS')['INCIDENTS'].sum()).reset_index()\n",
    "\n",
    "data_spring=pd.DataFrame(data_spring.groupby('TIPUS')['INCIDENTS'].sum()).reset_index()\n",
    "\n",
    "data_summer=pd.DataFrame(data_summer.groupby('TIPUS')['INCIDENTS'].sum()).reset_index()\n",
    "\n",
    "data_winter=pd.DataFrame(data_winter.groupby('TIPUS')['INCIDENTS'].sum()).reset_index()\n"
   ]
  },
  {
   "cell_type": "code",
   "execution_count": null,
   "id": "233137e5",
   "metadata": {},
   "outputs": [],
   "source": [
    "data_autumn.loc[1,'TIPUS']='Medical Assistance' ; data_winter.loc[1,'TIPUS']='Medical Assistance' ; data_spring.loc[1,'TIPUS']='Medical Assistance' ; data_summer.loc[1,'TIPUS']='Medical Assistance'\n",
    "\n",
    "data_autumn.loc[2,'TIPUS']='Fire' ;  data_winter.loc[2,'TIPUS']='Fire' ; data_spring.loc[2,'TIPUS']='Fire' ; data_summer.loc[2,'TIPUS']='Fire'\n",
    "\n",
    "data_autumn.loc[3,'TIPUS']='Meteorology' ; data_winter.loc[3,'TIPUS']='Meteorology' ; data_spring.loc[3,'TIPUS']='Meteorology' ; data_summer.loc[3,'TIPUS']='Meteorology' "
   ]
  },
  {
   "cell_type": "code",
   "execution_count": null,
   "id": "8ceecc38",
   "metadata": {},
   "outputs": [],
   "source": [
    "plt.figure(figsize=(15,13),dpi=180)\n",
    "\n",
    "\n",
    "plt.subplot(2,2,1)\n",
    "\n",
    "plt.title('Autumn Incidents',size=18)\n",
    "\n",
    "explode = (0, 0, 0, 0.1) \n",
    "\n",
    "pie=plt.pie(data_autumn['INCIDENTS'],colors=plt.cm.Set1.colors,explode=explode, autopct='%1.1f%%', pctdistance=1.2, textprops={'fontsize': 13})\n",
    "plt.legend(pie[0],data_autumn['TIPUS'],bbox_to_anchor=(1,0.2),loc='best',fontsize=13)\n",
    "\n",
    "plt.subplot(2,2,2)\n",
    "\n",
    "plt.title('Winter Incidents',size=18)\n",
    "\n",
    "plt.pie(data_winter['INCIDENTS'],colors=plt.cm.Set1.colors, autopct='%1.1f%%', pctdistance=1.2, textprops={'fontsize': 13})\n",
    "\n",
    "plt.subplot(2,2,3)\n",
    "\n",
    "plt.title('Spring Incidents',size=18)\n",
    "\n",
    "plt.pie(data_spring['INCIDENTS'],colors=plt.cm.Set1.colors, autopct='%1.1f%%', pctdistance=1.2, textprops={'fontsize': 13})\n",
    "\n",
    "plt.subplot(2,2,4)\n",
    "\n",
    "plt.title('Summer Incidents',size=18)\n",
    "\n",
    "explode = (0, 0, 0.1, 0) \n",
    "\n",
    "plt.pie(data_summer['INCIDENTS'],colors=plt.cm.Set1.colors, explode=explode,autopct='%1.1f%%', pctdistance=1.2, textprops={'fontsize': 13})\n",
    "\n",
    "plt.tight_layout()\n",
    "\n",
    "plt.savefig('/Users/belenmontenegro/Documents/Master/AVDM/AVDM_ioib/Belen/Analysis/Incidents_seasons.pdf')"
   ]
  }
 ],
 "metadata": {
  "kernelspec": {
   "display_name": "AVDM_new",
   "language": "python",
   "name": "avdm_new"
  },
  "language_info": {
   "codemirror_mode": {
    "name": "ipython",
    "version": 3
   },
   "file_extension": ".py",
   "mimetype": "text/x-python",
   "name": "python",
   "nbconvert_exporter": "python",
   "pygments_lexer": "ipython3",
   "version": "3.9.18"
  }
 },
 "nbformat": 4,
 "nbformat_minor": 5
}
